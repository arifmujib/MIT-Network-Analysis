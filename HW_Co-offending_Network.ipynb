{
 "cells": [
  {
   "cell_type": "code",
   "execution_count": 37,
   "id": "shaped-chart",
   "metadata": {},
   "outputs": [],
   "source": [
    "import pandas as pd\n",
    "import numpy as np\n",
    "import matplotlib.pyplot as plt\n",
    "import networkx as nx"
   ]
  },
  {
   "cell_type": "code",
   "execution_count": 2,
   "id": "commercial-jones",
   "metadata": {},
   "outputs": [
    {
     "name": "stdout",
     "output_type": "stream",
     "text": [
      "(1280459, 13)\n"
     ]
    },
    {
     "data": {
      "text/html": [
       "<div>\n",
       "<style scoped>\n",
       "    .dataframe tbody tr th:only-of-type {\n",
       "        vertical-align: middle;\n",
       "    }\n",
       "\n",
       "    .dataframe tbody tr th {\n",
       "        vertical-align: top;\n",
       "    }\n",
       "\n",
       "    .dataframe thead th {\n",
       "        text-align: right;\n",
       "    }\n",
       "</style>\n",
       "<table border=\"1\" class=\"dataframe\">\n",
       "  <thead>\n",
       "    <tr style=\"text-align: right;\">\n",
       "      <th></th>\n",
       "      <th>OffenderIdentifier</th>\n",
       "      <th>OffenderGender</th>\n",
       "      <th>CrimeIdentifier</th>\n",
       "      <th>CrimeType1</th>\n",
       "      <th>CrimeType2</th>\n",
       "      <th>CrimeType3</th>\n",
       "      <th>CrimeType4</th>\n",
       "      <th>Municipality</th>\n",
       "      <th>CrimeLocation</th>\n",
       "      <th>NumberYouthOffenders</th>\n",
       "      <th>NumberAdultOffenders</th>\n",
       "      <th>CrimeDate</th>\n",
       "      <th>CrimeYear</th>\n",
       "    </tr>\n",
       "  </thead>\n",
       "  <tbody>\n",
       "    <tr>\n",
       "      <th>0</th>\n",
       "      <td>1</td>\n",
       "      <td>F</td>\n",
       "      <td>1085034</td>\n",
       "      <td>3530.0</td>\n",
       "      <td>NaN</td>\n",
       "      <td>NaN</td>\n",
       "      <td>NaN</td>\n",
       "      <td>58227</td>\n",
       "      <td>2.0</td>\n",
       "      <td>0</td>\n",
       "      <td>1</td>\n",
       "      <td>12/17/2005</td>\n",
       "      <td>2005</td>\n",
       "    </tr>\n",
       "    <tr>\n",
       "      <th>1</th>\n",
       "      <td>2</td>\n",
       "      <td>F</td>\n",
       "      <td>1431379</td>\n",
       "      <td>1430.0</td>\n",
       "      <td>NaN</td>\n",
       "      <td>NaN</td>\n",
       "      <td>NaN</td>\n",
       "      <td>94068</td>\n",
       "      <td>5.0</td>\n",
       "      <td>0</td>\n",
       "      <td>1</td>\n",
       "      <td>04/23/2008</td>\n",
       "      <td>2008</td>\n",
       "    </tr>\n",
       "    <tr>\n",
       "      <th>2</th>\n",
       "      <td>4</td>\n",
       "      <td>M</td>\n",
       "      <td>167174</td>\n",
       "      <td>1430.0</td>\n",
       "      <td>21702.0</td>\n",
       "      <td>NaN</td>\n",
       "      <td>NaN</td>\n",
       "      <td>49058</td>\n",
       "      <td>2.0</td>\n",
       "      <td>0</td>\n",
       "      <td>1</td>\n",
       "      <td>03/06/2008</td>\n",
       "      <td>2008</td>\n",
       "    </tr>\n",
       "    <tr>\n",
       "      <th>3</th>\n",
       "      <td>5</td>\n",
       "      <td>M</td>\n",
       "      <td>1179096</td>\n",
       "      <td>1420.0</td>\n",
       "      <td>NaN</td>\n",
       "      <td>NaN</td>\n",
       "      <td>NaN</td>\n",
       "      <td>65005</td>\n",
       "      <td>71.0</td>\n",
       "      <td>0</td>\n",
       "      <td>1</td>\n",
       "      <td>08/21/2008</td>\n",
       "      <td>2008</td>\n",
       "    </tr>\n",
       "    <tr>\n",
       "      <th>4</th>\n",
       "      <td>17</td>\n",
       "      <td>M</td>\n",
       "      <td>1270690</td>\n",
       "      <td>1625.0</td>\n",
       "      <td>NaN</td>\n",
       "      <td>NaN</td>\n",
       "      <td>NaN</td>\n",
       "      <td>23027</td>\n",
       "      <td>NaN</td>\n",
       "      <td>0</td>\n",
       "      <td>3</td>\n",
       "      <td>04/30/2003</td>\n",
       "      <td>2003</td>\n",
       "    </tr>\n",
       "  </tbody>\n",
       "</table>\n",
       "</div>"
      ],
      "text/plain": [
       "   OffenderIdentifier OffenderGender  CrimeIdentifier  CrimeType1  CrimeType2  \\\n",
       "0                   1              F          1085034      3530.0         NaN   \n",
       "1                   2              F          1431379      1430.0         NaN   \n",
       "2                   4              M           167174      1430.0     21702.0   \n",
       "3                   5              M          1179096      1420.0         NaN   \n",
       "4                  17              M          1270690      1625.0         NaN   \n",
       "\n",
       "   CrimeType3  CrimeType4  Municipality  CrimeLocation  NumberYouthOffenders  \\\n",
       "0         NaN         NaN         58227            2.0                     0   \n",
       "1         NaN         NaN         94068            5.0                     0   \n",
       "2         NaN         NaN         49058            2.0                     0   \n",
       "3         NaN         NaN         65005           71.0                     0   \n",
       "4         NaN         NaN         23027            NaN                     0   \n",
       "\n",
       "   NumberAdultOffenders   CrimeDate  CrimeYear  \n",
       "0                     1  12/17/2005       2005  \n",
       "1                     1  04/23/2008       2008  \n",
       "2                     1  03/06/2008       2008  \n",
       "3                     1  08/21/2008       2008  \n",
       "4                     3  04/30/2003       2003  "
      ]
     },
     "execution_count": 2,
     "metadata": {},
     "output_type": "execute_result"
    }
   ],
   "source": [
    "df = pd.read_csv('release_networks_homework_data/Cooffending/Cooffending.csv')\n",
    "print(df.shape)\n",
    "df.head()"
   ]
  },
  {
   "cell_type": "code",
   "execution_count": 3,
   "id": "renewable-legislation",
   "metadata": {},
   "outputs": [
    {
     "data": {
      "text/html": [
       "<div>\n",
       "<style scoped>\n",
       "    .dataframe tbody tr th:only-of-type {\n",
       "        vertical-align: middle;\n",
       "    }\n",
       "\n",
       "    .dataframe tbody tr th {\n",
       "        vertical-align: top;\n",
       "    }\n",
       "\n",
       "    .dataframe thead th {\n",
       "        text-align: right;\n",
       "    }\n",
       "</style>\n",
       "<table border=\"1\" class=\"dataframe\">\n",
       "  <thead>\n",
       "    <tr style=\"text-align: right;\">\n",
       "      <th></th>\n",
       "      <th>OffenderIdentifier</th>\n",
       "      <th>OffenderGender</th>\n",
       "      <th>CrimeIdentifier</th>\n",
       "      <th>CrimeType1</th>\n",
       "      <th>CrimeType2</th>\n",
       "      <th>CrimeType3</th>\n",
       "      <th>CrimeType4</th>\n",
       "      <th>Municipality</th>\n",
       "      <th>CrimeLocation</th>\n",
       "      <th>NumberYouthOffenders</th>\n",
       "      <th>NumberAdultOffenders</th>\n",
       "      <th>CrimeDate</th>\n",
       "      <th>CrimeYear</th>\n",
       "      <th>NumberofOffenders</th>\n",
       "    </tr>\n",
       "  </thead>\n",
       "  <tbody>\n",
       "    <tr>\n",
       "      <th>0</th>\n",
       "      <td>1</td>\n",
       "      <td>F</td>\n",
       "      <td>1085034</td>\n",
       "      <td>3530.0</td>\n",
       "      <td>NaN</td>\n",
       "      <td>NaN</td>\n",
       "      <td>NaN</td>\n",
       "      <td>58227</td>\n",
       "      <td>2.0</td>\n",
       "      <td>0</td>\n",
       "      <td>1</td>\n",
       "      <td>12/17/2005</td>\n",
       "      <td>2005</td>\n",
       "      <td>1</td>\n",
       "    </tr>\n",
       "    <tr>\n",
       "      <th>1</th>\n",
       "      <td>2</td>\n",
       "      <td>F</td>\n",
       "      <td>1431379</td>\n",
       "      <td>1430.0</td>\n",
       "      <td>NaN</td>\n",
       "      <td>NaN</td>\n",
       "      <td>NaN</td>\n",
       "      <td>94068</td>\n",
       "      <td>5.0</td>\n",
       "      <td>0</td>\n",
       "      <td>1</td>\n",
       "      <td>04/23/2008</td>\n",
       "      <td>2008</td>\n",
       "      <td>1</td>\n",
       "    </tr>\n",
       "    <tr>\n",
       "      <th>2</th>\n",
       "      <td>4</td>\n",
       "      <td>M</td>\n",
       "      <td>167174</td>\n",
       "      <td>1430.0</td>\n",
       "      <td>21702.0</td>\n",
       "      <td>NaN</td>\n",
       "      <td>NaN</td>\n",
       "      <td>49058</td>\n",
       "      <td>2.0</td>\n",
       "      <td>0</td>\n",
       "      <td>1</td>\n",
       "      <td>03/06/2008</td>\n",
       "      <td>2008</td>\n",
       "      <td>1</td>\n",
       "    </tr>\n",
       "    <tr>\n",
       "      <th>3</th>\n",
       "      <td>5</td>\n",
       "      <td>M</td>\n",
       "      <td>1179096</td>\n",
       "      <td>1420.0</td>\n",
       "      <td>NaN</td>\n",
       "      <td>NaN</td>\n",
       "      <td>NaN</td>\n",
       "      <td>65005</td>\n",
       "      <td>71.0</td>\n",
       "      <td>0</td>\n",
       "      <td>1</td>\n",
       "      <td>08/21/2008</td>\n",
       "      <td>2008</td>\n",
       "      <td>1</td>\n",
       "    </tr>\n",
       "    <tr>\n",
       "      <th>4</th>\n",
       "      <td>17</td>\n",
       "      <td>M</td>\n",
       "      <td>1270690</td>\n",
       "      <td>1625.0</td>\n",
       "      <td>NaN</td>\n",
       "      <td>NaN</td>\n",
       "      <td>NaN</td>\n",
       "      <td>23027</td>\n",
       "      <td>NaN</td>\n",
       "      <td>0</td>\n",
       "      <td>3</td>\n",
       "      <td>04/30/2003</td>\n",
       "      <td>2003</td>\n",
       "      <td>3</td>\n",
       "    </tr>\n",
       "  </tbody>\n",
       "</table>\n",
       "</div>"
      ],
      "text/plain": [
       "   OffenderIdentifier OffenderGender  CrimeIdentifier  CrimeType1  CrimeType2  \\\n",
       "0                   1              F          1085034      3530.0         NaN   \n",
       "1                   2              F          1431379      1430.0         NaN   \n",
       "2                   4              M           167174      1430.0     21702.0   \n",
       "3                   5              M          1179096      1420.0         NaN   \n",
       "4                  17              M          1270690      1625.0         NaN   \n",
       "\n",
       "   CrimeType3  CrimeType4  Municipality  CrimeLocation  NumberYouthOffenders  \\\n",
       "0         NaN         NaN         58227            2.0                     0   \n",
       "1         NaN         NaN         94068            5.0                     0   \n",
       "2         NaN         NaN         49058            2.0                     0   \n",
       "3         NaN         NaN         65005           71.0                     0   \n",
       "4         NaN         NaN         23027            NaN                     0   \n",
       "\n",
       "   NumberAdultOffenders   CrimeDate  CrimeYear  NumberofOffenders  \n",
       "0                     1  12/17/2005       2005                  1  \n",
       "1                     1  04/23/2008       2008                  1  \n",
       "2                     1  03/06/2008       2008                  1  \n",
       "3                     1  08/21/2008       2008                  1  \n",
       "4                     3  04/30/2003       2003                  3  "
      ]
     },
     "execution_count": 3,
     "metadata": {},
     "output_type": "execute_result"
    }
   ],
   "source": [
    "df['NumberofOffenders'] = df.NumberAdultOffenders + df.NumberYouthOffenders\n",
    "df.head()"
   ]
  },
  {
   "cell_type": "code",
   "execution_count": 6,
   "id": "experienced-wrist",
   "metadata": {},
   "outputs": [
    {
     "name": "stdout",
     "output_type": "stream",
     "text": [
      "(1279987, 14)\n"
     ]
    }
   ],
   "source": [
    "df.drop_duplicates(subset=['OffenderIdentifier', 'CrimeIdentifier'], inplace=True)\n",
    "print(df.shape)"
   ]
  },
  {
   "cell_type": "code",
   "execution_count": 7,
   "id": "cleared-dream",
   "metadata": {},
   "outputs": [
    {
     "data": {
      "text/html": [
       "<div>\n",
       "<style scoped>\n",
       "    .dataframe tbody tr th:only-of-type {\n",
       "        vertical-align: middle;\n",
       "    }\n",
       "\n",
       "    .dataframe tbody tr th {\n",
       "        vertical-align: top;\n",
       "    }\n",
       "\n",
       "    .dataframe thead th {\n",
       "        text-align: right;\n",
       "    }\n",
       "</style>\n",
       "<table border=\"1\" class=\"dataframe\">\n",
       "  <thead>\n",
       "    <tr style=\"text-align: right;\">\n",
       "      <th></th>\n",
       "      <th>OffenderIdentifier</th>\n",
       "      <th>OffenderGender</th>\n",
       "      <th>CrimeIdentifier</th>\n",
       "      <th>CrimeType1</th>\n",
       "      <th>CrimeType2</th>\n",
       "      <th>CrimeType3</th>\n",
       "      <th>CrimeType4</th>\n",
       "      <th>Municipality</th>\n",
       "      <th>CrimeLocation</th>\n",
       "      <th>NumberYouthOffenders</th>\n",
       "      <th>NumberAdultOffenders</th>\n",
       "      <th>CrimeDate</th>\n",
       "      <th>CrimeYear</th>\n",
       "      <th>NumberofOffenders</th>\n",
       "    </tr>\n",
       "  </thead>\n",
       "  <tbody>\n",
       "    <tr>\n",
       "      <th>0</th>\n",
       "      <td>1</td>\n",
       "      <td>F</td>\n",
       "      <td>1085034</td>\n",
       "      <td>3530.0</td>\n",
       "      <td>NaN</td>\n",
       "      <td>NaN</td>\n",
       "      <td>NaN</td>\n",
       "      <td>58227</td>\n",
       "      <td>2.0</td>\n",
       "      <td>0</td>\n",
       "      <td>1</td>\n",
       "      <td>12/17/2005</td>\n",
       "      <td>2005</td>\n",
       "      <td>1</td>\n",
       "    </tr>\n",
       "    <tr>\n",
       "      <th>1</th>\n",
       "      <td>2</td>\n",
       "      <td>F</td>\n",
       "      <td>1431379</td>\n",
       "      <td>1430.0</td>\n",
       "      <td>NaN</td>\n",
       "      <td>NaN</td>\n",
       "      <td>NaN</td>\n",
       "      <td>94068</td>\n",
       "      <td>5.0</td>\n",
       "      <td>0</td>\n",
       "      <td>1</td>\n",
       "      <td>04/23/2008</td>\n",
       "      <td>2008</td>\n",
       "      <td>1</td>\n",
       "    </tr>\n",
       "    <tr>\n",
       "      <th>2</th>\n",
       "      <td>4</td>\n",
       "      <td>M</td>\n",
       "      <td>167174</td>\n",
       "      <td>1430.0</td>\n",
       "      <td>21702.0</td>\n",
       "      <td>NaN</td>\n",
       "      <td>NaN</td>\n",
       "      <td>49058</td>\n",
       "      <td>2.0</td>\n",
       "      <td>0</td>\n",
       "      <td>1</td>\n",
       "      <td>03/06/2008</td>\n",
       "      <td>2008</td>\n",
       "      <td>1</td>\n",
       "    </tr>\n",
       "    <tr>\n",
       "      <th>3</th>\n",
       "      <td>5</td>\n",
       "      <td>M</td>\n",
       "      <td>1179096</td>\n",
       "      <td>1420.0</td>\n",
       "      <td>NaN</td>\n",
       "      <td>NaN</td>\n",
       "      <td>NaN</td>\n",
       "      <td>65005</td>\n",
       "      <td>71.0</td>\n",
       "      <td>0</td>\n",
       "      <td>1</td>\n",
       "      <td>08/21/2008</td>\n",
       "      <td>2008</td>\n",
       "      <td>1</td>\n",
       "    </tr>\n",
       "    <tr>\n",
       "      <th>4</th>\n",
       "      <td>17</td>\n",
       "      <td>M</td>\n",
       "      <td>1270690</td>\n",
       "      <td>1625.0</td>\n",
       "      <td>NaN</td>\n",
       "      <td>NaN</td>\n",
       "      <td>NaN</td>\n",
       "      <td>23027</td>\n",
       "      <td>NaN</td>\n",
       "      <td>0</td>\n",
       "      <td>3</td>\n",
       "      <td>04/30/2003</td>\n",
       "      <td>2003</td>\n",
       "      <td>3</td>\n",
       "    </tr>\n",
       "  </tbody>\n",
       "</table>\n",
       "</div>"
      ],
      "text/plain": [
       "   OffenderIdentifier OffenderGender  CrimeIdentifier  CrimeType1  CrimeType2  \\\n",
       "0                   1              F          1085034      3530.0         NaN   \n",
       "1                   2              F          1431379      1430.0         NaN   \n",
       "2                   4              M           167174      1430.0     21702.0   \n",
       "3                   5              M          1179096      1420.0         NaN   \n",
       "4                  17              M          1270690      1625.0         NaN   \n",
       "\n",
       "   CrimeType3  CrimeType4  Municipality  CrimeLocation  NumberYouthOffenders  \\\n",
       "0         NaN         NaN         58227            2.0                     0   \n",
       "1         NaN         NaN         94068            5.0                     0   \n",
       "2         NaN         NaN         49058            2.0                     0   \n",
       "3         NaN         NaN         65005           71.0                     0   \n",
       "4         NaN         NaN         23027            NaN                     0   \n",
       "\n",
       "   NumberAdultOffenders   CrimeDate  CrimeYear  NumberofOffenders  \n",
       "0                     1  12/17/2005       2005                  1  \n",
       "1                     1  04/23/2008       2008                  1  \n",
       "2                     1  03/06/2008       2008                  1  \n",
       "3                     1  08/21/2008       2008                  1  \n",
       "4                     3  04/30/2003       2003                  3  "
      ]
     },
     "execution_count": 7,
     "metadata": {},
     "output_type": "execute_result"
    }
   ],
   "source": [
    "df.head()"
   ]
  },
  {
   "cell_type": "code",
   "execution_count": 8,
   "id": "joint-mozambique",
   "metadata": {},
   "outputs": [
    {
     "data": {
      "text/plain": [
       "539593"
      ]
     },
     "execution_count": 8,
     "metadata": {},
     "output_type": "execute_result"
    }
   ],
   "source": [
    "len(set(df['OffenderIdentifier']))"
   ]
  },
  {
   "cell_type": "code",
   "execution_count": 13,
   "id": "physical-batman",
   "metadata": {},
   "outputs": [
    {
     "data": {
      "text/plain": [
       "(539593,)"
      ]
     },
     "execution_count": 13,
     "metadata": {},
     "output_type": "execute_result"
    }
   ],
   "source": [
    "df['OffenderIdentifier'].unique().shape"
   ]
  },
  {
   "cell_type": "code",
   "execution_count": 14,
   "id": "designing-lambda",
   "metadata": {},
   "outputs": [
    {
     "data": {
      "text/plain": [
       "(1164836,)"
      ]
     },
     "execution_count": 14,
     "metadata": {},
     "output_type": "execute_result"
    }
   ],
   "source": [
    "df['CrimeIdentifier'].unique().shape"
   ]
  },
  {
   "cell_type": "code",
   "execution_count": 17,
   "id": "focal-lounge",
   "metadata": {},
   "outputs": [
    {
     "name": "stdout",
     "output_type": "stream",
     "text": [
      "110556  in year 2003\n",
      "121374  in year 2004\n",
      "172664  in year 2005\n",
      "185840  in year 2006\n",
      "196151  in year 2007\n",
      "199288  in year 2008\n",
      "178959  in year 2009\n",
      "4  in year 2010\n"
     ]
    }
   ],
   "source": [
    "for i in range(2003,2011):\n",
    "    print(df[df['CrimeYear']==i]['CrimeIdentifier'].unique().shape[0],' in year %d'%i)"
   ]
  },
  {
   "cell_type": "code",
   "execution_count": 16,
   "id": "starting-virtue",
   "metadata": {},
   "outputs": [
    {
     "data": {
      "text/plain": [
       "OffenderIdentifier        int64\n",
       "OffenderGender           object\n",
       "CrimeIdentifier           int64\n",
       "CrimeType1              float64\n",
       "CrimeType2              float64\n",
       "CrimeType3              float64\n",
       "CrimeType4              float64\n",
       "Municipality              int64\n",
       "CrimeLocation           float64\n",
       "NumberYouthOffenders      int64\n",
       "NumberAdultOffenders      int64\n",
       "CrimeDate                object\n",
       "CrimeYear                 int64\n",
       "NumberofOffenders         int64\n",
       "dtype: object"
      ]
     },
     "execution_count": 16,
     "metadata": {},
     "output_type": "execute_result"
    }
   ],
   "source": [
    "df.dtypes"
   ]
  },
  {
   "cell_type": "code",
   "execution_count": 18,
   "id": "derived-blind",
   "metadata": {},
   "outputs": [
    {
     "data": {
      "text/html": [
       "<div>\n",
       "<style scoped>\n",
       "    .dataframe tbody tr th:only-of-type {\n",
       "        vertical-align: middle;\n",
       "    }\n",
       "\n",
       "    .dataframe tbody tr th {\n",
       "        vertical-align: top;\n",
       "    }\n",
       "\n",
       "    .dataframe thead th {\n",
       "        text-align: right;\n",
       "    }\n",
       "</style>\n",
       "<table border=\"1\" class=\"dataframe\">\n",
       "  <thead>\n",
       "    <tr style=\"text-align: right;\">\n",
       "      <th></th>\n",
       "      <th>OffenderIdentifier</th>\n",
       "      <th>OffenderGender</th>\n",
       "      <th>CrimeIdentifier</th>\n",
       "      <th>CrimeType1</th>\n",
       "      <th>CrimeType2</th>\n",
       "      <th>CrimeType3</th>\n",
       "      <th>CrimeType4</th>\n",
       "      <th>Municipality</th>\n",
       "      <th>CrimeLocation</th>\n",
       "      <th>NumberYouthOffenders</th>\n",
       "      <th>NumberAdultOffenders</th>\n",
       "      <th>CrimeDate</th>\n",
       "      <th>CrimeYear</th>\n",
       "      <th>NumberofOffenders</th>\n",
       "    </tr>\n",
       "  </thead>\n",
       "  <tbody>\n",
       "    <tr>\n",
       "      <th>43313</th>\n",
       "      <td>47053</td>\n",
       "      <td>M</td>\n",
       "      <td>27849</td>\n",
       "      <td>39999.0</td>\n",
       "      <td>NaN</td>\n",
       "      <td>NaN</td>\n",
       "      <td>NaN</td>\n",
       "      <td>66023</td>\n",
       "      <td>9.0</td>\n",
       "      <td>0</td>\n",
       "      <td>156</td>\n",
       "      <td>04/20/2009</td>\n",
       "      <td>2009</td>\n",
       "      <td>156</td>\n",
       "    </tr>\n",
       "    <tr>\n",
       "      <th>48202</th>\n",
       "      <td>51795</td>\n",
       "      <td>M</td>\n",
       "      <td>27849</td>\n",
       "      <td>39999.0</td>\n",
       "      <td>NaN</td>\n",
       "      <td>NaN</td>\n",
       "      <td>NaN</td>\n",
       "      <td>66023</td>\n",
       "      <td>9.0</td>\n",
       "      <td>0</td>\n",
       "      <td>156</td>\n",
       "      <td>04/20/2009</td>\n",
       "      <td>2009</td>\n",
       "      <td>156</td>\n",
       "    </tr>\n",
       "    <tr>\n",
       "      <th>52676</th>\n",
       "      <td>56003</td>\n",
       "      <td>M</td>\n",
       "      <td>27849</td>\n",
       "      <td>39999.0</td>\n",
       "      <td>NaN</td>\n",
       "      <td>NaN</td>\n",
       "      <td>NaN</td>\n",
       "      <td>66023</td>\n",
       "      <td>9.0</td>\n",
       "      <td>0</td>\n",
       "      <td>156</td>\n",
       "      <td>04/20/2009</td>\n",
       "      <td>2009</td>\n",
       "      <td>156</td>\n",
       "    </tr>\n",
       "    <tr>\n",
       "      <th>55304</th>\n",
       "      <td>58110</td>\n",
       "      <td>M</td>\n",
       "      <td>27849</td>\n",
       "      <td>39999.0</td>\n",
       "      <td>NaN</td>\n",
       "      <td>NaN</td>\n",
       "      <td>NaN</td>\n",
       "      <td>66023</td>\n",
       "      <td>9.0</td>\n",
       "      <td>0</td>\n",
       "      <td>156</td>\n",
       "      <td>04/20/2009</td>\n",
       "      <td>2009</td>\n",
       "      <td>156</td>\n",
       "    </tr>\n",
       "    <tr>\n",
       "      <th>58993</th>\n",
       "      <td>61468</td>\n",
       "      <td>M</td>\n",
       "      <td>27849</td>\n",
       "      <td>39999.0</td>\n",
       "      <td>NaN</td>\n",
       "      <td>NaN</td>\n",
       "      <td>NaN</td>\n",
       "      <td>66023</td>\n",
       "      <td>9.0</td>\n",
       "      <td>0</td>\n",
       "      <td>156</td>\n",
       "      <td>04/20/2009</td>\n",
       "      <td>2009</td>\n",
       "      <td>156</td>\n",
       "    </tr>\n",
       "    <tr>\n",
       "      <th>...</th>\n",
       "      <td>...</td>\n",
       "      <td>...</td>\n",
       "      <td>...</td>\n",
       "      <td>...</td>\n",
       "      <td>...</td>\n",
       "      <td>...</td>\n",
       "      <td>...</td>\n",
       "      <td>...</td>\n",
       "      <td>...</td>\n",
       "      <td>...</td>\n",
       "      <td>...</td>\n",
       "      <td>...</td>\n",
       "      <td>...</td>\n",
       "      <td>...</td>\n",
       "    </tr>\n",
       "    <tr>\n",
       "      <th>775354</th>\n",
       "      <td>450815</td>\n",
       "      <td>M</td>\n",
       "      <td>27849</td>\n",
       "      <td>39999.0</td>\n",
       "      <td>NaN</td>\n",
       "      <td>NaN</td>\n",
       "      <td>NaN</td>\n",
       "      <td>66023</td>\n",
       "      <td>9.0</td>\n",
       "      <td>0</td>\n",
       "      <td>156</td>\n",
       "      <td>04/20/2009</td>\n",
       "      <td>2009</td>\n",
       "      <td>156</td>\n",
       "    </tr>\n",
       "    <tr>\n",
       "      <th>795913</th>\n",
       "      <td>460918</td>\n",
       "      <td>M</td>\n",
       "      <td>27849</td>\n",
       "      <td>39999.0</td>\n",
       "      <td>NaN</td>\n",
       "      <td>NaN</td>\n",
       "      <td>NaN</td>\n",
       "      <td>66023</td>\n",
       "      <td>9.0</td>\n",
       "      <td>0</td>\n",
       "      <td>156</td>\n",
       "      <td>04/20/2009</td>\n",
       "      <td>2009</td>\n",
       "      <td>156</td>\n",
       "    </tr>\n",
       "    <tr>\n",
       "      <th>855836</th>\n",
       "      <td>489127</td>\n",
       "      <td>M</td>\n",
       "      <td>27849</td>\n",
       "      <td>39999.0</td>\n",
       "      <td>NaN</td>\n",
       "      <td>NaN</td>\n",
       "      <td>NaN</td>\n",
       "      <td>66023</td>\n",
       "      <td>9.0</td>\n",
       "      <td>0</td>\n",
       "      <td>156</td>\n",
       "      <td>04/20/2009</td>\n",
       "      <td>2009</td>\n",
       "      <td>156</td>\n",
       "    </tr>\n",
       "    <tr>\n",
       "      <th>982842</th>\n",
       "      <td>541404</td>\n",
       "      <td>M</td>\n",
       "      <td>27849</td>\n",
       "      <td>39999.0</td>\n",
       "      <td>NaN</td>\n",
       "      <td>NaN</td>\n",
       "      <td>NaN</td>\n",
       "      <td>66023</td>\n",
       "      <td>9.0</td>\n",
       "      <td>0</td>\n",
       "      <td>156</td>\n",
       "      <td>04/20/2009</td>\n",
       "      <td>2009</td>\n",
       "      <td>156</td>\n",
       "    </tr>\n",
       "    <tr>\n",
       "      <th>992153</th>\n",
       "      <td>544851</td>\n",
       "      <td>M</td>\n",
       "      <td>27849</td>\n",
       "      <td>39999.0</td>\n",
       "      <td>NaN</td>\n",
       "      <td>NaN</td>\n",
       "      <td>NaN</td>\n",
       "      <td>66023</td>\n",
       "      <td>9.0</td>\n",
       "      <td>0</td>\n",
       "      <td>156</td>\n",
       "      <td>04/20/2009</td>\n",
       "      <td>2009</td>\n",
       "      <td>156</td>\n",
       "    </tr>\n",
       "  </tbody>\n",
       "</table>\n",
       "<p>156 rows × 14 columns</p>\n",
       "</div>"
      ],
      "text/plain": [
       "        OffenderIdentifier OffenderGender  CrimeIdentifier  CrimeType1  \\\n",
       "43313                47053              M            27849     39999.0   \n",
       "48202                51795              M            27849     39999.0   \n",
       "52676                56003              M            27849     39999.0   \n",
       "55304                58110              M            27849     39999.0   \n",
       "58993                61468              M            27849     39999.0   \n",
       "...                    ...            ...              ...         ...   \n",
       "775354              450815              M            27849     39999.0   \n",
       "795913              460918              M            27849     39999.0   \n",
       "855836              489127              M            27849     39999.0   \n",
       "982842              541404              M            27849     39999.0   \n",
       "992153              544851              M            27849     39999.0   \n",
       "\n",
       "        CrimeType2  CrimeType3  CrimeType4  Municipality  CrimeLocation  \\\n",
       "43313          NaN         NaN         NaN         66023            9.0   \n",
       "48202          NaN         NaN         NaN         66023            9.0   \n",
       "52676          NaN         NaN         NaN         66023            9.0   \n",
       "55304          NaN         NaN         NaN         66023            9.0   \n",
       "58993          NaN         NaN         NaN         66023            9.0   \n",
       "...            ...         ...         ...           ...            ...   \n",
       "775354         NaN         NaN         NaN         66023            9.0   \n",
       "795913         NaN         NaN         NaN         66023            9.0   \n",
       "855836         NaN         NaN         NaN         66023            9.0   \n",
       "982842         NaN         NaN         NaN         66023            9.0   \n",
       "992153         NaN         NaN         NaN         66023            9.0   \n",
       "\n",
       "        NumberYouthOffenders  NumberAdultOffenders   CrimeDate  CrimeYear  \\\n",
       "43313                      0                   156  04/20/2009       2009   \n",
       "48202                      0                   156  04/20/2009       2009   \n",
       "52676                      0                   156  04/20/2009       2009   \n",
       "55304                      0                   156  04/20/2009       2009   \n",
       "58993                      0                   156  04/20/2009       2009   \n",
       "...                      ...                   ...         ...        ...   \n",
       "775354                     0                   156  04/20/2009       2009   \n",
       "795913                     0                   156  04/20/2009       2009   \n",
       "855836                     0                   156  04/20/2009       2009   \n",
       "982842                     0                   156  04/20/2009       2009   \n",
       "992153                     0                   156  04/20/2009       2009   \n",
       "\n",
       "        NumberofOffenders  \n",
       "43313                 156  \n",
       "48202                 156  \n",
       "52676                 156  \n",
       "55304                 156  \n",
       "58993                 156  \n",
       "...                   ...  \n",
       "775354                156  \n",
       "795913                156  \n",
       "855836                156  \n",
       "982842                156  \n",
       "992153                156  \n",
       "\n",
       "[156 rows x 14 columns]"
      ]
     },
     "execution_count": 18,
     "metadata": {},
     "output_type": "execute_result"
    }
   ],
   "source": [
    "df[df['NumberofOffenders']==df['NumberofOffenders'].max()]"
   ]
  },
  {
   "cell_type": "code",
   "execution_count": 24,
   "id": "filled-amateur",
   "metadata": {},
   "outputs": [
    {
     "data": {
      "text/plain": [
       "OffenderIdentifier\n",
       "300728    456\n",
       "Name: CrimeIdentifier, dtype: int64"
      ]
     },
     "execution_count": 24,
     "metadata": {},
     "output_type": "execute_result"
    }
   ],
   "source": [
    "df.groupby('OffenderIdentifier')['CrimeIdentifier'].count()[df.groupby('OffenderIdentifier')['CrimeIdentifier'].count()==456]"
   ]
  },
  {
   "cell_type": "code",
   "execution_count": 34,
   "id": "noble-luxembourg",
   "metadata": {},
   "outputs": [],
   "source": [
    "bp_arr = df[['OffenderIdentifier','CrimeIdentifier']].astype('str')"
   ]
  },
  {
   "cell_type": "code",
   "execution_count": 35,
   "id": "capital-garden",
   "metadata": {},
   "outputs": [
    {
     "data": {
      "text/html": [
       "<div>\n",
       "<style scoped>\n",
       "    .dataframe tbody tr th:only-of-type {\n",
       "        vertical-align: middle;\n",
       "    }\n",
       "\n",
       "    .dataframe tbody tr th {\n",
       "        vertical-align: top;\n",
       "    }\n",
       "\n",
       "    .dataframe thead th {\n",
       "        text-align: right;\n",
       "    }\n",
       "</style>\n",
       "<table border=\"1\" class=\"dataframe\">\n",
       "  <thead>\n",
       "    <tr style=\"text-align: right;\">\n",
       "      <th></th>\n",
       "      <th>OffenderIdentifier</th>\n",
       "      <th>CrimeIdentifier</th>\n",
       "    </tr>\n",
       "  </thead>\n",
       "  <tbody>\n",
       "    <tr>\n",
       "      <th>0</th>\n",
       "      <td>O_1</td>\n",
       "      <td>C_1085034</td>\n",
       "    </tr>\n",
       "    <tr>\n",
       "      <th>1</th>\n",
       "      <td>O_2</td>\n",
       "      <td>C_1431379</td>\n",
       "    </tr>\n",
       "    <tr>\n",
       "      <th>2</th>\n",
       "      <td>O_4</td>\n",
       "      <td>C_167174</td>\n",
       "    </tr>\n",
       "    <tr>\n",
       "      <th>3</th>\n",
       "      <td>O_5</td>\n",
       "      <td>C_1179096</td>\n",
       "    </tr>\n",
       "    <tr>\n",
       "      <th>4</th>\n",
       "      <td>O_17</td>\n",
       "      <td>C_1270690</td>\n",
       "    </tr>\n",
       "  </tbody>\n",
       "</table>\n",
       "</div>"
      ],
      "text/plain": [
       "  OffenderIdentifier CrimeIdentifier\n",
       "0                O_1       C_1085034\n",
       "1                O_2       C_1431379\n",
       "2                O_4        C_167174\n",
       "3                O_5       C_1179096\n",
       "4               O_17       C_1270690"
      ]
     },
     "execution_count": 35,
     "metadata": {},
     "output_type": "execute_result"
    }
   ],
   "source": [
    "bp_arr.OffenderIdentifier = 'O_' + bp_arr.OffenderIdentifier\n",
    "bp_arr.CrimeIdentifier = 'C_' + bp_arr.CrimeIdentifier\n",
    "bp_arr.head()"
   ]
  },
  {
   "cell_type": "code",
   "execution_count": 36,
   "id": "diverse-celebrity",
   "metadata": {},
   "outputs": [
    {
     "data": {
      "text/plain": [
       "array([['O_1', 'C_1085034'],\n",
       "       ['O_2', 'C_1431379'],\n",
       "       ['O_4', 'C_167174'],\n",
       "       ...,\n",
       "       ['O_670534', 'C_187904'],\n",
       "       ['O_670535', 'C_523837'],\n",
       "       ['O_670536', 'C_1632652']], dtype=object)"
      ]
     },
     "execution_count": 36,
     "metadata": {},
     "output_type": "execute_result"
    }
   ],
   "source": [
    "bp_arr.to_numpy()"
   ]
  },
  {
   "cell_type": "code",
   "execution_count": 39,
   "id": "complex-charter",
   "metadata": {},
   "outputs": [],
   "source": [
    "from networkx.algorithms import bipartite as bp"
   ]
  },
  {
   "cell_type": "code",
   "execution_count": 47,
   "id": "stupid-spider",
   "metadata": {},
   "outputs": [],
   "source": [
    "B = nx.Graph()\n",
    "B.add_nodes_from(bp_arr['OffenderIdentifier'], bipartite = 0)\n",
    "B.add_nodes_from(bp_arr['CrimeIdentifier'], bipartite = 1)\n",
    "B.add_edges_from (bp_arr.to_numpy())"
   ]
  },
  {
   "cell_type": "code",
   "execution_count": 48,
   "id": "realistic-switch",
   "metadata": {},
   "outputs": [
    {
     "data": {
      "text/plain": [
       "False"
      ]
     },
     "execution_count": 48,
     "metadata": {},
     "output_type": "execute_result"
    }
   ],
   "source": [
    "nx.is_connected(B)"
   ]
  },
  {
   "cell_type": "code",
   "execution_count": 49,
   "id": "surface-omaha",
   "metadata": {},
   "outputs": [],
   "source": [
    "G = bp.projected_graph(B, bp_arr['OffenderIdentifier'])"
   ]
  },
  {
   "cell_type": "code",
   "execution_count": 51,
   "id": "fatal-midwest",
   "metadata": {},
   "outputs": [
    {
     "data": {
      "text/plain": [
       "539593"
      ]
     },
     "execution_count": 51,
     "metadata": {},
     "output_type": "execute_result"
    }
   ],
   "source": [
    "G.number_of_nodes()"
   ]
  },
  {
   "cell_type": "code",
   "execution_count": 53,
   "id": "collectible-theater",
   "metadata": {},
   "outputs": [
    {
     "data": {
      "text/plain": [
       "(539593,)"
      ]
     },
     "execution_count": 53,
     "metadata": {},
     "output_type": "execute_result"
    }
   ],
   "source": [
    "bp_arr['OffenderIdentifier'].unique().shape"
   ]
  },
  {
   "cell_type": "code",
   "execution_count": 56,
   "id": "diagnostic-morgan",
   "metadata": {},
   "outputs": [
    {
     "data": {
      "text/plain": [
       "418434"
      ]
     },
     "execution_count": 56,
     "metadata": {},
     "output_type": "execute_result"
    }
   ],
   "source": [
    "len(list(nx.isolates(G)))"
   ]
  },
  {
   "cell_type": "code",
   "execution_count": 59,
   "id": "attempted-neighbor",
   "metadata": {},
   "outputs": [
    {
     "data": {
      "text/plain": [
       "178413"
      ]
     },
     "execution_count": 59,
     "metadata": {},
     "output_type": "execute_result"
    }
   ],
   "source": [
    "G.number_of_edges()"
   ]
  },
  {
   "cell_type": "code",
   "execution_count": 64,
   "id": "unknown-oliver",
   "metadata": {},
   "outputs": [],
   "source": [
    "g = G.copy()"
   ]
  },
  {
   "cell_type": "code",
   "execution_count": 66,
   "id": "valuable-memorabilia",
   "metadata": {},
   "outputs": [],
   "source": [
    "g.remove_nodes_from(list(nx.isolates(g)))"
   ]
  },
  {
   "cell_type": "code",
   "execution_count": 70,
   "id": "several-being",
   "metadata": {},
   "outputs": [
    {
     "data": {
      "text/plain": [
       "2.945105192350548"
      ]
     },
     "execution_count": 70,
     "metadata": {},
     "output_type": "execute_result"
    }
   ],
   "source": [
    "np.mean(sorted([d for n, d in g.degree()], reverse=True))"
   ]
  },
  {
   "cell_type": "code",
   "execution_count": 71,
   "id": "clear-girlfriend",
   "metadata": {},
   "outputs": [],
   "source": [
    "deg = np.array(sorted([d for n, d in g.degree()], reverse=True))"
   ]
  },
  {
   "cell_type": "code",
   "execution_count": 74,
   "id": "static-perry",
   "metadata": {},
   "outputs": [
    {
     "data": {
      "text/plain": [
       "265"
      ]
     },
     "execution_count": 74,
     "metadata": {},
     "output_type": "execute_result"
    }
   ],
   "source": [
    "(deg>=100).sum()"
   ]
  },
  {
   "cell_type": "code",
   "execution_count": 76,
   "id": "polish-drill",
   "metadata": {},
   "outputs": [
    {
     "data": {
      "text/plain": [
       "36098"
      ]
     },
     "execution_count": 76,
     "metadata": {},
     "output_type": "execute_result"
    }
   ],
   "source": [
    "len(sorted(nx.connected_components(g), key=len, reverse=True))"
   ]
  },
  {
   "cell_type": "code",
   "execution_count": 78,
   "id": "necessary-lotus",
   "metadata": {},
   "outputs": [
    {
     "data": {
      "text/plain": [
       "19924"
      ]
     },
     "execution_count": 78,
     "metadata": {},
     "output_type": "execute_result"
    }
   ],
   "source": [
    "len(sorted(nx.connected_components(g), key=len, reverse=True)[0])"
   ]
  },
  {
   "cell_type": "code",
   "execution_count": 85,
   "id": "spectacular-stream",
   "metadata": {},
   "outputs": [],
   "source": [
    "A = nx.linalg.graphmatrix.adjacency_matrix(G)"
   ]
  },
  {
   "cell_type": "code",
   "execution_count": 91,
   "id": "excited-forest",
   "metadata": {},
   "outputs": [
    {
     "data": {
      "text/plain": [
       "356826"
      ]
     },
     "execution_count": 91,
     "metadata": {},
     "output_type": "execute_result"
    }
   ],
   "source": [
    "np.sum(A==1)"
   ]
  },
  {
   "cell_type": "code",
   "execution_count": 118,
   "id": "dangerous-better",
   "metadata": {},
   "outputs": [
    {
     "data": {
      "text/plain": [
       "[2, 1, 1, 1, 1, 1, 1, 2, 2, 2]"
      ]
     },
     "execution_count": 118,
     "metadata": {},
     "output_type": "execute_result"
    }
   ],
   "source": [
    "degree = []\n",
    "for i in g.degree():\n",
    "    degree.append(i[1])\n",
    "\n",
    "    \n",
    "degree[:10]"
   ]
  },
  {
   "cell_type": "code",
   "execution_count": 129,
   "id": "integral-needle",
   "metadata": {},
   "outputs": [
    {
     "data": {
      "image/png": "[encoded data removed]",
      "text/plain": [
       "<Figure size 432x288 with 1 Axes>"
      ]
     },
     "metadata": {
      "needs_background": "light"
     },
     "output_type": "display_data"
    }
   ],
   "source": [
    "plt.hist( (degree), bins=20, range=(0,10))\n",
    "plt.xlabel('Degree')\n",
    "plt.ylabel('Log of frequency')\n",
    "plt.title('Log Plot of the degree distribution')\n",
    "plt.yscale('log')\n",
    "plt.savefig('images/Log Plot of the degree distribution.png')\n",
    "plt.show()"
   ]
  },
  {
   "cell_type": "code",
   "execution_count": 127,
   "id": "faced-scientist",
   "metadata": {},
   "outputs": [
    {
     "data": {
      "image/png": "[encoded data removed]",
      "text/plain": [
       "<Figure size 432x288 with 1 Axes>"
      ]
     },
     "metadata": {
      "needs_background": "light"
     },
     "output_type": "display_data"
    }
   ],
   "source": [
    "plt.hist( (degree), bins=20, range=(0,10))\n",
    "plt.xlabel('Degree')\n",
    "plt.ylabel('Frequency')\n",
    "plt.title('Plot of the degree distribution')\n",
    "#plt.yscale('log')\n",
    "plt.savefig('images/Plot of the degree distribution.png')\n",
    "plt.show()"
   ]
  },
  {
   "cell_type": "code",
   "execution_count": null,
   "id": "mature-daisy",
   "metadata": {},
   "outputs": [],
   "source": []
  }
 ],
 "metadata": {
  "kernelspec": {
   "display_name": "Python 3",
   "language": "python",
   "name": "python3"
  },
  "language_info": {
   "codemirror_mode": {
    "name": "ipython",
    "version": 3
   },
   "file_extension": ".py",
   "mimetype": "text/x-python",
   "name": "python",
   "nbconvert_exporter": "python",
   "pygments_lexer": "ipython3",
   "version": "3.8.8"
  }
 },
 "nbformat": 4,
 "nbformat_minor": 5
}
