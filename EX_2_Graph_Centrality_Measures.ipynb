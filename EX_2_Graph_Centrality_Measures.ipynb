{
 "cells": [
  {
   "cell_type": "code",
   "execution_count": 1,
   "id": "bronze-brighton",
   "metadata": {},
   "outputs": [],
   "source": [
    "import numpy as np"
   ]
  },
  {
   "cell_type": "code",
   "execution_count": 2,
   "id": "abstract-operation",
   "metadata": {},
   "outputs": [
    {
     "data": {
      "text/plain": [
       "array([[1, 0, 0, 0],\n",
       "       [1, 0, 0, 0],\n",
       "       [1, 0, 0, 0],\n",
       "       [1, 0, 0, 0]])"
      ]
     },
     "execution_count": 2,
     "metadata": {},
     "output_type": "execute_result"
    }
   ],
   "source": [
    "A = np.array([[1,0,0,0],\n",
    "    [1,0,0,0],\n",
    "    [1,0,0,0],\n",
    "    [1,0,0,0]])\n",
    "A"
   ]
  },
  {
   "cell_type": "code",
   "execution_count": 3,
   "id": "preliminary-delhi",
   "metadata": {},
   "outputs": [
    {
     "data": {
      "text/plain": [
       "array([[1],\n",
       "       [1],\n",
       "       [1],\n",
       "       [1]])"
      ]
     },
     "execution_count": 3,
     "metadata": {},
     "output_type": "execute_result"
    }
   ],
   "source": [
    "x = np.array([[1,1,1,1]]).T\n",
    "x"
   ]
  },
  {
   "cell_type": "code",
   "execution_count": 6,
   "id": "hungarian-dover",
   "metadata": {},
   "outputs": [
    {
     "data": {
      "text/plain": [
       "(array([0., 0., 0., 1.]),\n",
       " array([[0. , 0. , 0. , 0.5],\n",
       "        [0. , 1. , 0. , 0.5],\n",
       "        [0. , 0. , 1. , 0.5],\n",
       "        [1. , 0. , 0. , 0.5]]))"
      ]
     },
     "execution_count": 6,
     "metadata": {},
     "output_type": "execute_result"
    }
   ],
   "source": [
    "np.linalg.eig(A)"
   ]
  },
  {
   "cell_type": "code",
   "execution_count": 10,
   "id": "fancy-maple",
   "metadata": {},
   "outputs": [
    {
     "data": {
      "text/plain": [
       "array([[4, 0, 0, 0]])"
      ]
     },
     "execution_count": 10,
     "metadata": {},
     "output_type": "execute_result"
    }
   ],
   "source": [
    "x.T@A"
   ]
  },
  {
   "cell_type": "code",
   "execution_count": 11,
   "id": "neither-journalist",
   "metadata": {},
   "outputs": [],
   "source": [
    "import networkx as nx"
   ]
  },
  {
   "cell_type": "code",
   "execution_count": 15,
   "id": "greenhouse-sunday",
   "metadata": {},
   "outputs": [],
   "source": [
    "G = nx.Graph(A)"
   ]
  },
  {
   "cell_type": "code",
   "execution_count": 16,
   "id": "international-violence",
   "metadata": {},
   "outputs": [
    {
     "data": {
      "text/plain": [
       "{0: 0.7991714905460789,\n",
       " 1: 0.34704703269074766,\n",
       " 2: 0.34704703269074766,\n",
       " 3: 0.34704703269074766}"
      ]
     },
     "execution_count": 16,
     "metadata": {},
     "output_type": "execute_result"
    }
   ],
   "source": [
    "nx.eigenvector_centrality(G)"
   ]
  },
  {
   "cell_type": "code",
   "execution_count": 17,
   "id": "deluxe-salmon",
   "metadata": {},
   "outputs": [
    {
     "data": {
      "image/png": "[encoded data removed]",
      "text/plain": [
       "<Figure size 432x288 with 1 Axes>"
      ]
     },
     "metadata": {},
     "output_type": "display_data"
    }
   ],
   "source": [
    "nx.draw_networkx(G)"
   ]
  },
  {
   "cell_type": "code",
   "execution_count": 19,
   "id": "silent-world",
   "metadata": {},
   "outputs": [
    {
     "data": {
      "image/png": "[encoded data removed]",
      "text/plain": [
       "<Figure size 432x288 with 1 Axes>"
      ]
     },
     "metadata": {},
     "output_type": "display_data"
    }
   ],
   "source": [
    "G2 = nx.DiGraph(A.T)\n",
    "nx.draw_networkx(G2)"
   ]
  },
  {
   "cell_type": "code",
   "execution_count": 20,
   "id": "aware-liechtenstein",
   "metadata": {},
   "outputs": [
    {
     "data": {
      "text/plain": [
       "{0: 0.5, 1: 0.5, 2: 0.5, 3: 0.5}"
      ]
     },
     "execution_count": 20,
     "metadata": {},
     "output_type": "execute_result"
    }
   ],
   "source": [
    "nx.eigenvector_centrality(G2)"
   ]
  },
  {
   "cell_type": "code",
   "execution_count": 22,
   "id": "august-generator",
   "metadata": {},
   "outputs": [
    {
     "data": {
      "text/plain": [
       "array([[1, 1, 1, 1]])"
      ]
     },
     "execution_count": 22,
     "metadata": {},
     "output_type": "execute_result"
    }
   ],
   "source": [
    "x.T@A.T"
   ]
  },
  {
   "cell_type": "code",
   "execution_count": 23,
   "id": "going-optimum",
   "metadata": {},
   "outputs": [
    {
     "data": {
      "text/plain": [
       "array([[1, 1, 1, 1],\n",
       "       [1, 0, 0, 0],\n",
       "       [1, 0, 0, 0],\n",
       "       [1, 0, 0, 0]])"
      ]
     },
     "execution_count": 23,
     "metadata": {},
     "output_type": "execute_result"
    }
   ],
   "source": [
    "AA = np.array([[1,1,1,1],\n",
    "    [1,0,0,0],\n",
    "    [1,0,0,0],\n",
    "    [1,0,0,0]])\n",
    "AA"
   ]
  },
  {
   "cell_type": "code",
   "execution_count": 24,
   "id": "restricted-calculation",
   "metadata": {},
   "outputs": [],
   "source": [
    "GG = nx.Graph(AA)"
   ]
  },
  {
   "cell_type": "code",
   "execution_count": 25,
   "id": "unlikely-ticket",
   "metadata": {},
   "outputs": [
    {
     "data": {
      "text/plain": [
       "{0: 0.7991714905460789,\n",
       " 1: 0.34704703269074766,\n",
       " 2: 0.34704703269074766,\n",
       " 3: 0.34704703269074766}"
      ]
     },
     "execution_count": 25,
     "metadata": {},
     "output_type": "execute_result"
    }
   ],
   "source": [
    "nx.eigenvector_centrality(GG)"
   ]
  },
  {
   "cell_type": "code",
   "execution_count": 26,
   "id": "falling-imaging",
   "metadata": {},
   "outputs": [
    {
     "data": {
      "image/png": "[encoded data removed]",
      "text/plain": [
       "<Figure size 432x288 with 1 Axes>"
      ]
     },
     "metadata": {},
     "output_type": "display_data"
    }
   ],
   "source": [
    "nx.draw_networkx(GG)"
   ]
  },
  {
   "cell_type": "code",
   "execution_count": 27,
   "id": "acute-watch",
   "metadata": {},
   "outputs": [
    {
     "data": {
      "text/plain": [
       "array([[0, 1, 1, 1],\n",
       "       [0, 0, 0, 0],\n",
       "       [0, 0, 0, 0],\n",
       "       [0, 0, 0, 0]])"
      ]
     },
     "execution_count": 27,
     "metadata": {},
     "output_type": "execute_result"
    }
   ],
   "source": [
    "A_katz = np.array([[0,1,1,1],\n",
    "    [0,0,0,0],\n",
    "    [0,0,0,0],\n",
    "    [0,0,0,0]])\n",
    "A_katz"
   ]
  },
  {
   "cell_type": "code",
   "execution_count": 28,
   "id": "veterinary-tsunami",
   "metadata": {},
   "outputs": [
    {
     "data": {
      "text/plain": [
       "(array([0., 0., 0., 0.]),\n",
       " array([[ 1.00000000e+000, -1.00000000e+000, -1.00000000e+000,\n",
       "         -1.00000000e+000],\n",
       "        [ 0.00000000e+000,  4.00833672e-292,  0.00000000e+000,\n",
       "          0.00000000e+000],\n",
       "        [ 0.00000000e+000,  0.00000000e+000,  4.00833672e-292,\n",
       "          0.00000000e+000],\n",
       "        [ 0.00000000e+000,  0.00000000e+000,  0.00000000e+000,\n",
       "          4.00833672e-292]]))"
      ]
     },
     "execution_count": 28,
     "metadata": {},
     "output_type": "execute_result"
    }
   ],
   "source": [
    "np.linalg.eig(A_katz)"
   ]
  },
  {
   "cell_type": "code",
   "execution_count": 31,
   "id": "documentary-salem",
   "metadata": {},
   "outputs": [
    {
     "data": {
      "text/plain": [
       "{0: 0.46473941234017313,\n",
       " 1: 0.5112133535741905,\n",
       " 2: 0.5112133535741905,\n",
       " 3: 0.5112133535741905}"
      ]
     },
     "execution_count": 31,
     "metadata": {},
     "output_type": "execute_result"
    }
   ],
   "source": [
    "G_k = nx.DiGraph(A_katz)\n",
    "nx.katz_centrality(G_k)"
   ]
  },
  {
   "cell_type": "code",
   "execution_count": 32,
   "id": "rational-infrared",
   "metadata": {},
   "outputs": [
    {
     "data": {
      "text/plain": [
       "array([[0, 1, 1, 1, 1, 1, 1],\n",
       "       [1, 0, 1, 0, 0, 0, 0],\n",
       "       [1, 1, 0, 0, 0, 0, 0],\n",
       "       [1, 0, 0, 0, 1, 0, 0],\n",
       "       [1, 0, 0, 1, 0, 0, 0],\n",
       "       [1, 0, 0, 0, 0, 0, 0],\n",
       "       [1, 0, 0, 0, 0, 1, 0]])"
      ]
     },
     "execution_count": 32,
     "metadata": {},
     "output_type": "execute_result"
    }
   ],
   "source": [
    "A_k = np.array([[0, 1, 1, 1, 1, 1, 1],\n",
    "    [1, 0, 1, 0, 0, 0, 0],\n",
    "    [1, 1, 0, 0, 0, 0, 0],\n",
    "    [1, 0, 0, 0, 1, 0, 0],\n",
    "    [1, 0, 0, 1, 0, 0, 0],\n",
    "    [1, 0, 0, 0, 0, 0, 0],\n",
    "    [1, 0, 0, 0, 0, 1, 0]])\n",
    "A_k"
   ]
  },
  {
   "cell_type": "code",
   "execution_count": 34,
   "id": "curious-springfield",
   "metadata": {},
   "outputs": [
    {
     "data": {
      "text/plain": [
       "{0: 0.4902924835393532,\n",
       " 1: 0.36220399817757487,\n",
       " 2: 0.36220399817757487,\n",
       " 3: 0.36220399817757487,\n",
       " 4: 0.36220399817757487,\n",
       " 5: 0.358581961957795,\n",
       " 6: 0.3259836068884889}"
      ]
     },
     "execution_count": 34,
     "metadata": {},
     "output_type": "execute_result"
    }
   ],
   "source": [
    "Gk = nx.DiGraph(A_k)\n",
    "nx.katz_centrality(Gk)"
   ]
  },
  {
   "cell_type": "code",
   "execution_count": 40,
   "id": "southwest-restaurant",
   "metadata": {},
   "outputs": [
    {
     "data": {
      "text/plain": [
       "{0: 0.3430451692210466,\n",
       " 1: 0.12178517428468955,\n",
       " 2: 0.12178517428468955,\n",
       " 3: 0.12178517428468955,\n",
       " 4: 0.12178517428468955,\n",
       " 5: 0.09978782025635274,\n",
       " 6: 0.07002631338384245}"
      ]
     },
     "execution_count": 40,
     "metadata": {},
     "output_type": "execute_result"
    }
   ],
   "source": [
    "nx.pagerank(Gk, alpha=0.85)"
   ]
  },
  {
   "cell_type": "code",
   "execution_count": 41,
   "id": "amateur-burlington",
   "metadata": {},
   "outputs": [
    {
     "data": {
      "text/plain": [
       "array([[0, 1, 1, 1, 1, 1, 1],\n",
       "       [1, 0, 1, 0, 0, 0, 0],\n",
       "       [1, 1, 0, 0, 0, 0, 0],\n",
       "       [1, 0, 0, 0, 1, 0, 0],\n",
       "       [1, 0, 0, 1, 0, 0, 0],\n",
       "       [1, 0, 0, 0, 0, 0, 0],\n",
       "       [1, 0, 0, 0, 0, 1, 0]])"
      ]
     },
     "execution_count": 41,
     "metadata": {},
     "output_type": "execute_result"
    }
   ],
   "source": [
    "A_h = np.array([[0, 1, 1, 1, 1, 1, 1],\n",
    "    [1, 0, 1, 0, 0, 0, 0],\n",
    "    [1, 1, 0, 0, 0, 0, 0],\n",
    "    [1, 0, 0, 0, 1, 0, 0],\n",
    "    [1, 0, 0, 1, 0, 0, 0],\n",
    "    [1, 0, 0, 0, 0, 0, 0],\n",
    "    [1, 0, 0, 0, 0, 1, 0]])\n",
    "A_h"
   ]
  },
  {
   "cell_type": "code",
   "execution_count": 43,
   "id": "blessed-mediterranean",
   "metadata": {},
   "outputs": [
    {
     "data": {
      "text/plain": [
       "({0: 0.2544010357250008,\n",
       "  1: 0.13175928394061134,\n",
       "  2: 0.13175928394061134,\n",
       "  3: 0.13175928394061134,\n",
       "  4: 0.13175928394061134,\n",
       "  5: 0.08680254457194272,\n",
       "  6: 0.13175928394061134},\n",
       " {0: 0.2544010367546554,\n",
       "  1: 0.13175928379632934,\n",
       "  2: 0.13175928379632934,\n",
       "  3: 0.13175928379632934,\n",
       "  4: 0.13175928379632934,\n",
       "  5: 0.13175928379632934,\n",
       "  6: 0.08680254426369792})"
      ]
     },
     "execution_count": 43,
     "metadata": {},
     "output_type": "execute_result"
    }
   ],
   "source": [
    "nx.hits(Gk)"
   ]
  },
  {
   "cell_type": "code",
   "execution_count": 44,
   "id": "functioning-oakland",
   "metadata": {},
   "outputs": [
    {
     "data": {
      "text/plain": [
       "\u001b[1;31mSignature:\u001b[0m \u001b[0mnx\u001b[0m\u001b[1;33m.\u001b[0m\u001b[0mhits\u001b[0m\u001b[1;33m(\u001b[0m\u001b[0mG\u001b[0m\u001b[1;33m,\u001b[0m \u001b[0mmax_iter\u001b[0m\u001b[1;33m=\u001b[0m\u001b[1;36m100\u001b[0m\u001b[1;33m,\u001b[0m \u001b[0mtol\u001b[0m\u001b[1;33m=\u001b[0m\u001b[1;36m1e-08\u001b[0m\u001b[1;33m,\u001b[0m \u001b[0mnstart\u001b[0m\u001b[1;33m=\u001b[0m\u001b[1;32mNone\u001b[0m\u001b[1;33m,\u001b[0m \u001b[0mnormalized\u001b[0m\u001b[1;33m=\u001b[0m\u001b[1;32mTrue\u001b[0m\u001b[1;33m)\u001b[0m\u001b[1;33m\u001b[0m\u001b[1;33m\u001b[0m\u001b[0m\n",
       "\u001b[1;31mDocstring:\u001b[0m\n",
       "Returns HITS hubs and authorities values for nodes.\n",
       "\n",
       "The HITS algorithm computes two numbers for a node.\n",
       "Authorities estimates the node value based on the incoming links.\n",
       "Hubs estimates the node value based on outgoing links.\n",
       "\n",
       "Parameters\n",
       "----------\n",
       "G : graph\n",
       "  A NetworkX graph\n",
       "\n",
       "max_iter : integer, optional\n",
       "  Maximum number of iterations in power method.\n",
       "\n",
       "tol : float, optional\n",
       "  Error tolerance used to check convergence in power method iteration.\n",
       "\n",
       "nstart : dictionary, optional\n",
       "  Starting value of each node for power method iteration.\n",
       "\n",
       "normalized : bool (default=True)\n",
       "   Normalize results by the sum of all of the values.\n",
       "\n",
       "Returns\n",
       "-------\n",
       "(hubs,authorities) : two-tuple of dictionaries\n",
       "   Two dictionaries keyed by node containing the hub and authority\n",
       "   values.\n",
       "\n",
       "Raises\n",
       "------\n",
       "PowerIterationFailedConvergence\n",
       "    If the algorithm fails to converge to the specified tolerance\n",
       "    within the specified number of iterations of the power iteration\n",
       "    method.\n",
       "\n",
       "Examples\n",
       "--------\n",
       ">>> G = nx.path_graph(4)\n",
       ">>> h, a = nx.hits(G)\n",
       "\n",
       "Notes\n",
       "-----\n",
       "The eigenvector calculation is done by the power iteration method\n",
       "and has no guarantee of convergence.  The iteration will stop\n",
       "after max_iter iterations or an error tolerance of\n",
       "number_of_nodes(G)*tol has been reached.\n",
       "\n",
       "The HITS algorithm was designed for directed graphs but this\n",
       "algorithm does not check if the input graph is directed and will\n",
       "execute on undirected graphs.\n",
       "\n",
       "References\n",
       "----------\n",
       ".. [1] A. Langville and C. Meyer,\n",
       "   \"A survey of eigenvector methods of web information retrieval.\"\n",
       "   http://citeseer.ist.psu.edu/713792.html\n",
       ".. [2] Jon Kleinberg,\n",
       "   Authoritative sources in a hyperlinked environment\n",
       "   Journal of the ACM 46 (5): 604-32, 1999.\n",
       "   doi:10.1145/324133.324140.\n",
       "   http://www.cs.cornell.edu/home/kleinber/auth.pdf.\n",
       "\u001b[1;31mFile:\u001b[0m      e:\\anaconda\\lib\\site-packages\\networkx\\algorithms\\link_analysis\\hits_alg.py\n",
       "\u001b[1;31mType:\u001b[0m      function\n"
      ]
     },
     "metadata": {},
     "output_type": "display_data"
    }
   ],
   "source": [
    "?nx.hits"
   ]
  },
  {
   "cell_type": "code",
   "execution_count": null,
   "id": "responsible-personality",
   "metadata": {},
   "outputs": [],
   "source": []
  }
 ],
 "metadata": {
  "kernelspec": {
   "display_name": "Python 3",
   "language": "python",
   "name": "python3"
  },
  "language_info": {
   "codemirror_mode": {
    "name": "ipython",
    "version": 3
   },
   "file_extension": ".py",
   "mimetype": "text/x-python",
   "name": "python",
   "nbconvert_exporter": "python",
   "pygments_lexer": "ipython3",
   "version": "3.8.8"
  }
 },
 "nbformat": 4,
 "nbformat_minor": 5
}
