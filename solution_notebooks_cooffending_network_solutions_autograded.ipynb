{
 "cells": [
  {
   "cell_type": "code",
   "execution_count": 1,
   "metadata": {
    "id": "yzurwi4Jxszd"
   },
   "outputs": [],
   "source": [
    "%matplotlib inline\n",
    "import numpy as np\n",
    "import pandas as pd\n",
    "import networkx as nx\n",
    "from scipy.sparse import csr_matrix\n",
    "import matplotlib\n",
    "import warnings\n",
    "import matplotlib.pyplot as plt\n",
    "import collections\n",
    "import scipy\n",
    "import statistics as stats\n",
    "\n",
    "warnings.filterwarnings(\"ignore\", category=matplotlib.MatplotlibDeprecationWarning)"
   ]
  },
  {
   "cell_type": "markdown",
   "metadata": {
    "Collapsed": "false",
    "id": "E87Shjzlxszk"
   },
   "source": [
    "# Cooffending network"
   ]
  },
  {
   "cell_type": "code",
   "execution_count": 2,
   "metadata": {
    "colab": {
     "base_uri": "https://localhost:8080/",
     "height": 305
    },
    "id": "3It66IiVxszl",
    "outputId": "dc111849-c3ac-4744-e0d9-f9ed40c7d673",
    "scrolled": true
   },
   "outputs": [
    {
     "data": {
      "text/html": [
       "<div>\n",
       "<style scoped>\n",
       "    .dataframe tbody tr th:only-of-type {\n",
       "        vertical-align: middle;\n",
       "    }\n",
       "\n",
       "    .dataframe tbody tr th {\n",
       "        vertical-align: top;\n",
       "    }\n",
       "\n",
       "    .dataframe thead th {\n",
       "        text-align: right;\n",
       "    }\n",
       "</style>\n",
       "<table border=\"1\" class=\"dataframe\">\n",
       "  <thead>\n",
       "    <tr style=\"text-align: right;\">\n",
       "      <th></th>\n",
       "      <th>OffenderIdentifier</th>\n",
       "      <th>OffenderGender</th>\n",
       "      <th>CrimeIdentifier</th>\n",
       "      <th>CrimeType1</th>\n",
       "      <th>CrimeType2</th>\n",
       "      <th>CrimeType3</th>\n",
       "      <th>CrimeType4</th>\n",
       "      <th>Municipality</th>\n",
       "      <th>CrimeLocation</th>\n",
       "      <th>NumberYouthOffenders</th>\n",
       "      <th>NumberAdultOffenders</th>\n",
       "      <th>CrimeDate</th>\n",
       "      <th>CrimeYear</th>\n",
       "      <th>NOffenders</th>\n",
       "    </tr>\n",
       "  </thead>\n",
       "  <tbody>\n",
       "    <tr>\n",
       "      <th>0</th>\n",
       "      <td>1</td>\n",
       "      <td>F</td>\n",
       "      <td>1085034</td>\n",
       "      <td>3530.0</td>\n",
       "      <td>NaN</td>\n",
       "      <td>NaN</td>\n",
       "      <td>NaN</td>\n",
       "      <td>58227</td>\n",
       "      <td>2.0</td>\n",
       "      <td>0</td>\n",
       "      <td>1</td>\n",
       "      <td>2005-12-17</td>\n",
       "      <td>2005</td>\n",
       "      <td>1</td>\n",
       "    </tr>\n",
       "    <tr>\n",
       "      <th>1</th>\n",
       "      <td>2</td>\n",
       "      <td>F</td>\n",
       "      <td>1431379</td>\n",
       "      <td>1430.0</td>\n",
       "      <td>NaN</td>\n",
       "      <td>NaN</td>\n",
       "      <td>NaN</td>\n",
       "      <td>94068</td>\n",
       "      <td>5.0</td>\n",
       "      <td>0</td>\n",
       "      <td>1</td>\n",
       "      <td>2008-04-23</td>\n",
       "      <td>2008</td>\n",
       "      <td>1</td>\n",
       "    </tr>\n",
       "    <tr>\n",
       "      <th>2</th>\n",
       "      <td>4</td>\n",
       "      <td>M</td>\n",
       "      <td>167174</td>\n",
       "      <td>1430.0</td>\n",
       "      <td>21702.0</td>\n",
       "      <td>NaN</td>\n",
       "      <td>NaN</td>\n",
       "      <td>49058</td>\n",
       "      <td>2.0</td>\n",
       "      <td>0</td>\n",
       "      <td>1</td>\n",
       "      <td>2008-03-06</td>\n",
       "      <td>2008</td>\n",
       "      <td>1</td>\n",
       "    </tr>\n",
       "    <tr>\n",
       "      <th>3</th>\n",
       "      <td>5</td>\n",
       "      <td>M</td>\n",
       "      <td>1179096</td>\n",
       "      <td>1420.0</td>\n",
       "      <td>NaN</td>\n",
       "      <td>NaN</td>\n",
       "      <td>NaN</td>\n",
       "      <td>65005</td>\n",
       "      <td>71.0</td>\n",
       "      <td>0</td>\n",
       "      <td>1</td>\n",
       "      <td>2008-08-21</td>\n",
       "      <td>2008</td>\n",
       "      <td>1</td>\n",
       "    </tr>\n",
       "    <tr>\n",
       "      <th>4</th>\n",
       "      <td>17</td>\n",
       "      <td>M</td>\n",
       "      <td>1270690</td>\n",
       "      <td>1625.0</td>\n",
       "      <td>NaN</td>\n",
       "      <td>NaN</td>\n",
       "      <td>NaN</td>\n",
       "      <td>23027</td>\n",
       "      <td>NaN</td>\n",
       "      <td>0</td>\n",
       "      <td>3</td>\n",
       "      <td>2003-04-30</td>\n",
       "      <td>2003</td>\n",
       "      <td>3</td>\n",
       "    </tr>\n",
       "  </tbody>\n",
       "</table>\n",
       "</div>"
      ],
      "text/plain": [
       "   OffenderIdentifier OffenderGender  CrimeIdentifier  CrimeType1  CrimeType2  \\\n",
       "0                   1              F          1085034      3530.0         NaN   \n",
       "1                   2              F          1431379      1430.0         NaN   \n",
       "2                   4              M           167174      1430.0     21702.0   \n",
       "3                   5              M          1179096      1420.0         NaN   \n",
       "4                  17              M          1270690      1625.0         NaN   \n",
       "\n",
       "   CrimeType3  CrimeType4  Municipality  CrimeLocation  NumberYouthOffenders  \\\n",
       "0         NaN         NaN         58227            2.0                     0   \n",
       "1         NaN         NaN         94068            5.0                     0   \n",
       "2         NaN         NaN         49058            2.0                     0   \n",
       "3         NaN         NaN         65005           71.0                     0   \n",
       "4         NaN         NaN         23027            NaN                     0   \n",
       "\n",
       "   NumberAdultOffenders  CrimeDate  CrimeYear  NOffenders  \n",
       "0                     1 2005-12-17       2005           1  \n",
       "1                     1 2008-04-23       2008           1  \n",
       "2                     1 2008-03-06       2008           1  \n",
       "3                     1 2008-08-21       2008           1  \n",
       "4                     3 2003-04-30       2003           3  "
      ]
     },
     "execution_count": 2,
     "metadata": {},
     "output_type": "execute_result"
    }
   ],
   "source": [
    "df = pd.read_csv(\"release_networks_homework_data/Cooffending/Cooffending.csv\")\n",
    "df.CrimeDate = pd.to_datetime(df.CrimeDate)\n",
    "df[\"NOffenders\"] = df.NumberYouthOffenders + df.NumberAdultOffenders\n",
    "n_cases_raw = len(df)\n",
    "df = df.drop_duplicates()\n",
    "# There are five people who are listed as both M and F, just drop one of them\n",
    "df = df.drop_duplicates(subset=[\"OffenderIdentifier\", \"CrimeIdentifier\"])\n",
    "n_cases = len(df)\n",
    "n_criminals = len(df.OffenderIdentifier.unique())\n",
    "n_crimes = len(df.CrimeIdentifier.unique())\n",
    "df.head()"
   ]
  },
  {
   "cell_type": "markdown",
   "metadata": {
    "id": "eSgwx2vW6RtR"
   },
   "source": [
    "# Part (a)"
   ]
  },
  {
   "cell_type": "code",
   "execution_count": 3,
   "metadata": {
    "colab": {
     "base_uri": "https://localhost:8080/"
    },
    "id": "tFTzUZh36WCe",
    "outputId": "c3e5b7ff-d204-48d8-a81c-2d777fcafae7"
   },
   "outputs": [
    {
     "name": "stdout",
     "output_type": "stream",
     "text": [
      "Number of cases after removing duplicates: 1279987\n"
     ]
    }
   ],
   "source": [
    "print(\"Number of cases after removing duplicates: {}\".format(n_cases))"
   ]
  },
  {
   "cell_type": "markdown",
   "metadata": {
    "id": "namtqW1B6ez2"
   },
   "source": [
    "# Part (b)"
   ]
  },
  {
   "cell_type": "code",
   "execution_count": 4,
   "metadata": {
    "colab": {
     "base_uri": "https://localhost:8080/"
    },
    "id": "K-95hsWJ6hCm",
    "outputId": "cb262302-4213-486e-913f-f7efdda288f6"
   },
   "outputs": [
    {
     "name": "stdout",
     "output_type": "stream",
     "text": [
      "Number of unique criminals: 539593\n"
     ]
    }
   ],
   "source": [
    "print(\"Number of unique criminals: {}\".format(n_criminals))"
   ]
  },
  {
   "cell_type": "markdown",
   "metadata": {
    "id": "vEDcH9576mn3"
   },
   "source": [
    "# Part (c)"
   ]
  },
  {
   "cell_type": "code",
   "execution_count": 5,
   "metadata": {
    "colab": {
     "base_uri": "https://localhost:8080/"
    },
    "id": "6nh4JAoz6n9e",
    "outputId": "ff1d5fe4-7f61-4172-cf3c-6f7e8b7c8c7f"
   },
   "outputs": [
    {
     "name": "stdout",
     "output_type": "stream",
     "text": [
      "Number of unique crimes: 1164836\n"
     ]
    }
   ],
   "source": [
    "print(\"Number of unique crimes: {}\".format(n_crimes))"
   ]
  },
  {
   "cell_type": "code",
   "execution_count": 6,
   "metadata": {
    "colab": {
     "base_uri": "https://localhost:8080/",
     "height": 348
    },
    "id": "exl6owkE7cQL",
    "outputId": "1cbf0f29-4fb7-4169-c572-6cd722f5a701"
   },
   "outputs": [
    {
     "data": {
      "text/html": [
       "<div>\n",
       "<style scoped>\n",
       "    .dataframe tbody tr th:only-of-type {\n",
       "        vertical-align: middle;\n",
       "    }\n",
       "\n",
       "    .dataframe tbody tr th {\n",
       "        vertical-align: top;\n",
       "    }\n",
       "\n",
       "    .dataframe thead tr th {\n",
       "        text-align: left;\n",
       "    }\n",
       "\n",
       "    .dataframe thead tr:last-of-type th {\n",
       "        text-align: right;\n",
       "    }\n",
       "</style>\n",
       "<table border=\"1\" class=\"dataframe\">\n",
       "  <thead>\n",
       "    <tr>\n",
       "      <th></th>\n",
       "      <th>CrimeIdentifier</th>\n",
       "    </tr>\n",
       "    <tr>\n",
       "      <th></th>\n",
       "      <th>count</th>\n",
       "    </tr>\n",
       "    <tr>\n",
       "      <th>CrimeYear</th>\n",
       "      <th></th>\n",
       "    </tr>\n",
       "  </thead>\n",
       "  <tbody>\n",
       "    <tr>\n",
       "      <th>2003</th>\n",
       "      <td>110556</td>\n",
       "    </tr>\n",
       "    <tr>\n",
       "      <th>2004</th>\n",
       "      <td>121374</td>\n",
       "    </tr>\n",
       "    <tr>\n",
       "      <th>2005</th>\n",
       "      <td>172664</td>\n",
       "    </tr>\n",
       "    <tr>\n",
       "      <th>2006</th>\n",
       "      <td>185840</td>\n",
       "    </tr>\n",
       "    <tr>\n",
       "      <th>2007</th>\n",
       "      <td>196151</td>\n",
       "    </tr>\n",
       "    <tr>\n",
       "      <th>2008</th>\n",
       "      <td>199288</td>\n",
       "    </tr>\n",
       "    <tr>\n",
       "      <th>2009</th>\n",
       "      <td>178959</td>\n",
       "    </tr>\n",
       "    <tr>\n",
       "      <th>2010</th>\n",
       "      <td>4</td>\n",
       "    </tr>\n",
       "  </tbody>\n",
       "</table>\n",
       "</div>"
      ],
      "text/plain": [
       "          CrimeIdentifier\n",
       "                    count\n",
       "CrimeYear                \n",
       "2003               110556\n",
       "2004               121374\n",
       "2005               172664\n",
       "2006               185840\n",
       "2007               196151\n",
       "2008               199288\n",
       "2009               178959\n",
       "2010                    4"
      ]
     },
     "execution_count": 6,
     "metadata": {},
     "output_type": "execute_result"
    }
   ],
   "source": [
    "df.drop_duplicates(\"CrimeIdentifier\").groupby(['CrimeYear']).agg(['count'])[[\"CrimeIdentifier\"]]"
   ]
  },
  {
   "cell_type": "markdown",
   "metadata": {
    "id": "pVIRH0tL7o6-"
   },
   "source": [
    "Thus, 2008 has the most crimes, with 199288 crimes.\n",
    "\n"
   ]
  },
  {
   "cell_type": "markdown",
   "metadata": {
    "id": "uDHy51HS77YY"
   },
   "source": [
    "# Part (d)"
   ]
  },
  {
   "cell_type": "markdown",
   "metadata": {
    "id": "yz71CYsV7806"
   },
   "source": [
    "**Question 1**"
   ]
  },
  {
   "cell_type": "code",
   "execution_count": 7,
   "metadata": {
    "colab": {
     "base_uri": "https://localhost:8080/",
     "height": 198
    },
    "id": "2Ap7TRww79-M",
    "outputId": "0a16e77b-30cd-428e-f0dc-44126b43805c"
   },
   "outputs": [
    {
     "data": {
      "text/html": [
       "<div>\n",
       "<style scoped>\n",
       "    .dataframe tbody tr th:only-of-type {\n",
       "        vertical-align: middle;\n",
       "    }\n",
       "\n",
       "    .dataframe tbody tr th {\n",
       "        vertical-align: top;\n",
       "    }\n",
       "\n",
       "    .dataframe thead th {\n",
       "        text-align: right;\n",
       "    }\n",
       "</style>\n",
       "<table border=\"1\" class=\"dataframe\">\n",
       "  <thead>\n",
       "    <tr style=\"text-align: right;\">\n",
       "      <th></th>\n",
       "      <th>CrimeIdentifier</th>\n",
       "      <th>NOffenders</th>\n",
       "      <th>Municipality</th>\n",
       "    </tr>\n",
       "  </thead>\n",
       "  <tbody>\n",
       "    <tr>\n",
       "      <th>43313</th>\n",
       "      <td>27849</td>\n",
       "      <td>156</td>\n",
       "      <td>66023</td>\n",
       "    </tr>\n",
       "    <tr>\n",
       "      <th>43470</th>\n",
       "      <td>876159</td>\n",
       "      <td>102</td>\n",
       "      <td>12072</td>\n",
       "    </tr>\n",
       "    <tr>\n",
       "      <th>737402</th>\n",
       "      <td>445040</td>\n",
       "      <td>97</td>\n",
       "      <td>66023</td>\n",
       "    </tr>\n",
       "    <tr>\n",
       "      <th>980905</th>\n",
       "      <td>36209</td>\n",
       "      <td>93</td>\n",
       "      <td>36033</td>\n",
       "    </tr>\n",
       "    <tr>\n",
       "      <th>688249</th>\n",
       "      <td>539385</td>\n",
       "      <td>62</td>\n",
       "      <td>66023</td>\n",
       "    </tr>\n",
       "  </tbody>\n",
       "</table>\n",
       "</div>"
      ],
      "text/plain": [
       "        CrimeIdentifier  NOffenders  Municipality\n",
       "43313             27849         156         66023\n",
       "43470            876159         102         12072\n",
       "737402           445040          97         66023\n",
       "980905            36209          93         36033\n",
       "688249           539385          62         66023"
      ]
     },
     "execution_count": 7,
     "metadata": {},
     "output_type": "execute_result"
    }
   ],
   "source": [
    "df.drop_duplicates(\"CrimeIdentifier\") \\\n",
    "    .sort_values(\"NOffenders\", ascending=False)[[\"CrimeIdentifier\", \"NOffenders\", \"Municipality\"]] \\\n",
    "    .head()"
   ]
  },
  {
   "cell_type": "markdown",
   "metadata": {
    "id": "nDgLVk968bdk"
   },
   "source": [
    "Thus, Crime 27849 had the most offenders with 156 offenders in municipality 66023"
   ]
  },
  {
   "cell_type": "markdown",
   "metadata": {
    "id": "9jLE07Hz81p7"
   },
   "source": [
    "**Question 2**"
   ]
  },
  {
   "cell_type": "code",
   "execution_count": 8,
   "metadata": {
    "colab": {
     "base_uri": "https://localhost:8080/"
    },
    "id": "9VWvr6db83JD",
    "outputId": "a24ced60-4128-49d8-e961-4f9b4fea9369"
   },
   "outputs": [
    {
     "data": {
      "text/plain": [
       "300728    456\n",
       "440431    358\n",
       "253577    357\n",
       "120976    350\n",
       "373749    275\n",
       "Name: OffenderIdentifier, dtype: int64"
      ]
     },
     "execution_count": 8,
     "metadata": {},
     "output_type": "execute_result"
    }
   ],
   "source": [
    "df['OffenderIdentifier'].value_counts(sort=True).head()"
   ]
  },
  {
   "cell_type": "markdown",
   "metadata": {
    "id": "W9Snu4Q09Dry"
   },
   "source": [
    "Thus, offender 300728 committed the most crimes with 456 crimes."
   ]
  },
  {
   "cell_type": "markdown",
   "metadata": {
    "id": "SKR_rgw-9OkF"
   },
   "source": [
    "# Part (e)"
   ]
  },
  {
   "cell_type": "code",
   "execution_count": 9,
   "metadata": {
    "id": "sKUGOjTk9ROx"
   },
   "outputs": [],
   "source": [
    "# Remap to consecutive identifiers\n",
    "OffenderIdentifier_dict = {OffenderIdentifier: i for i, OffenderIdentifier in enumerate(df.OffenderIdentifier.unique())}\n",
    "CrimeIdentifier_dict = {CrimeIdentifier: i for i, CrimeIdentifier in enumerate(df.CrimeIdentifier.unique())}\n",
    "\n",
    "# .replace has a lot of overhead\n",
    "df.OffenderIdentifier = df.OffenderIdentifier.map(OffenderIdentifier_dict.get)\n",
    "df.CrimeIdentifier = df.CrimeIdentifier.map(CrimeIdentifier_dict.get)\n",
    "\n",
    "assert not df.OffenderIdentifier.isnull().any() and not df.CrimeIdentifier.isnull().any()\n",
    "assert df.CrimeIdentifier.max() == df.CrimeIdentifier.nunique() - 1\n",
    "assert df.OffenderIdentifier.max() == df.OffenderIdentifier.nunique() - 1"
   ]
  },
  {
   "cell_type": "code",
   "execution_count": null,
   "metadata": {
    "id": "sKUGOjTk9ROx"
   },
   "outputs": [],
   "source": []
  },
  {
   "cell_type": "code",
   "execution_count": 10,
   "metadata": {
    "id": "8tDIQiFXAc1p"
   },
   "outputs": [],
   "source": [
    "# Build matrix\n",
    "row = df.OffenderIdentifier\n",
    "col = df.CrimeIdentifier\n",
    "vals = np.ones(len(row))\n",
    "\n",
    "# Sparse representation\n",
    "crime_matrix = csr_matrix((vals, (row, col)), shape=(row.max() + 1, col.max() + 1))"
   ]
  },
  {
   "cell_type": "code",
   "execution_count": 11,
   "metadata": {
    "id": "sahE5su6AuOd"
   },
   "outputs": [],
   "source": [
    "cooffend_matrix = crime_matrix @ crime_matrix.T\n",
    "\n",
    "# Save an unmodified copy for later\n",
    "cooffend_matrix_raw = cooffend_matrix.copy()\n",
    "\n",
    "# convert to (binary) adj. matrix\n",
    "# Could use the full cooffending matrix for project\n",
    "cooffend_matrix[cooffend_matrix > 0] = 1\n",
    "cooffend_matrix.setdiag(0)\n",
    "cooffend_matrix.eliminate_zeros() # To avoid self loops since setdiag(0) does not itself change the sparsity pattern"
   ]
  },
  {
   "cell_type": "code",
   "execution_count": 12,
   "metadata": {
    "id": "sC2eGB5hBCx9"
   },
   "outputs": [],
   "source": [
    "g = nx.from_scipy_sparse_matrix(cooffend_matrix)"
   ]
  },
  {
   "cell_type": "code",
   "execution_count": 13,
   "metadata": {
    "colab": {
     "base_uri": "https://localhost:8080/"
    },
    "id": "cyU4L3ExA6PP",
    "outputId": "05e3ef38-187a-43fe-8cfc-57a1cadf9aa4"
   },
   "outputs": [
    {
     "name": "stdout",
     "output_type": "stream",
     "text": [
      "Number of nodes: 539593\n"
     ]
    }
   ],
   "source": [
    "print(\"Number of nodes: {}\".format(g.number_of_nodes()))"
   ]
  },
  {
   "cell_type": "code",
   "execution_count": 14,
   "metadata": {
    "colab": {
     "base_uri": "https://localhost:8080/"
    },
    "id": "4XPtouXmBOcu",
    "outputId": "32a73d60-c440-4ba7-9530-8cb0423f2b19"
   },
   "outputs": [
    {
     "name": "stdout",
     "output_type": "stream",
     "text": [
      "Number of isolated nodes: 418434\n"
     ]
    }
   ],
   "source": [
    "print(\"Number of isolated nodes: {}\".format(len(list(nx.isolates(g)))))"
   ]
  },
  {
   "cell_type": "code",
   "execution_count": 15,
   "metadata": {
    "colab": {
     "base_uri": "https://localhost:8080/"
    },
    "id": "O7RgBjxODDBU",
    "outputId": "4a911cd9-0837-4230-f7a8-b5427b94e4bc"
   },
   "outputs": [
    {
     "name": "stdout",
     "output_type": "stream",
     "text": [
      "Number of edges: 178413\n"
     ]
    }
   ],
   "source": [
    "print(\"Number of edges: {}\".format(g.number_of_edges()))"
   ]
  },
  {
   "cell_type": "markdown",
   "metadata": {
    "id": "SsSEIxyrFMT0"
   },
   "source": [
    "# Part (f)"
   ]
  },
  {
   "cell_type": "code",
   "execution_count": 16,
   "metadata": {
    "id": "2WHuBf73FOCl"
   },
   "outputs": [],
   "source": [
    "g_removed = g.copy()\n",
    "g_removed.remove_nodes_from(list(nx.isolates(g_removed)))"
   ]
  },
  {
   "cell_type": "code",
   "execution_count": 17,
   "metadata": {
    "colab": {
     "base_uri": "https://localhost:8080/"
    },
    "id": "040QA3d-Gb-N",
    "outputId": "92a89e1b-5e2b-4b1d-8bc9-2d4898036e0a"
   },
   "outputs": [
    {
     "name": "stdout",
     "output_type": "stream",
     "text": [
      "Mean of node degrees: 2.945105192350548\n"
     ]
    }
   ],
   "source": [
    "degree_list = sorted([d for n, d in g_removed.degree()], reverse=True)\n",
    "print(\"Mean of node degrees: {}\".format(np.mean(degree_list)))"
   ]
  },
  {
   "cell_type": "code",
   "execution_count": 18,
   "metadata": {
    "colab": {
     "base_uri": "https://localhost:8080/"
    },
    "id": "Z01oXqAUGn9v",
    "outputId": "076fe9a9-f5cb-4d23-a50b-93b570e1438e"
   },
   "outputs": [
    {
     "name": "stdout",
     "output_type": "stream",
     "text": [
      "Number of nodes with degree >= 100: 265\n"
     ]
    }
   ],
   "source": [
    "print(\"Number of nodes with degree >= 100: {}\".format(np.sum(np.array(degree_list) >= 100)))"
   ]
  },
  {
   "cell_type": "code",
   "execution_count": 19,
   "metadata": {
    "colab": {
     "base_uri": "https://localhost:8080/"
    },
    "id": "TZEgbcvAGz_G",
    "outputId": "c0fb3e3d-d5a1-4f47-ba33-d32bf89ca511"
   },
   "outputs": [
    {
     "name": "stdout",
     "output_type": "stream",
     "text": [
      "Number of connected components: 36098\n"
     ]
    }
   ],
   "source": [
    "component_list = sorted(nx.connected_components(g_removed), key=len, reverse=True)\n",
    "print(\"Number of connected components: {}\".format(len(component_list)))"
   ]
  },
  {
   "cell_type": "markdown",
   "metadata": {
    "id": "4kytRK5QHDim"
   },
   "source": [
    "# Part (g)"
   ]
  },
  {
   "cell_type": "code",
   "execution_count": 20,
   "metadata": {
    "id": "TIa2VwKXHE0r"
   },
   "outputs": [],
   "source": [
    "#plt.hist(g_removed.degree())"
   ]
  },
  {
   "cell_type": "markdown",
   "metadata": {
    "id": "WM2N5cUWHKWj"
   },
   "source": [
    "# Part (h)"
   ]
  },
  {
   "cell_type": "code",
   "execution_count": 21,
   "metadata": {
    "colab": {
     "base_uri": "https://localhost:8080/"
    },
    "id": "lnxoHD5HHNQt",
    "outputId": "ee7a2d30-b064-4098-b4e5-122f95034784"
   },
   "outputs": [
    {
     "name": "stdout",
     "output_type": "stream",
     "text": [
      "Number of nodes in largest component: 19924\n"
     ]
    }
   ],
   "source": [
    "largest_component = g_removed.subgraph(component_list[0])\n",
    "print(\"Number of nodes in largest component: {}\".format(largest_component.number_of_nodes()))"
   ]
  },
  {
   "cell_type": "markdown",
   "metadata": {
    "id": "dMyDhSjDHdkU"
   },
   "source": [
    "# Part (i)"
   ]
  },
  {
   "cell_type": "code",
   "execution_count": 22,
   "metadata": {
    "id": "dh6ktl5NLzZE"
   },
   "outputs": [],
   "source": [
    "# Separate matrices for repeating co-offenders vs non-repeating co-offenders\n",
    "cooffend_matrix_repeat = cooffend_matrix_raw.copy()\n",
    "cooffend_matrix_no_repeat = cooffend_matrix_raw.copy()\n",
    "\n",
    "# Repeating co-offenders: edge strength >= 2\n",
    "cooffend_matrix_repeat.data[np.where(cooffend_matrix_repeat.data<2)[0]]=0\n",
    "cooffend_matrix_repeat[cooffend_matrix_repeat > 0] = 1\n",
    "cooffend_matrix_repeat.setdiag(0)\n",
    "cooffend_matrix_repeat.eliminate_zeros() # To avoid self loops since setdiag(0) does not itself change the sparsity pattern\n",
    "\n",
    "# Non-repeating co-offenders: edge strength = 1\n",
    "cooffend_matrix_no_repeat.data[np.where(cooffend_matrix_no_repeat.data!=1)[0]]=0\n",
    "cooffend_matrix_no_repeat[cooffend_matrix_no_repeat > 0] = 1\n",
    "cooffend_matrix_no_repeat.setdiag(0)\n",
    "cooffend_matrix_no_repeat.eliminate_zeros() # To avoid self loops since setdiag(0) does not itself change the sparsity pattern"
   ]
  },
  {
   "cell_type": "code",
   "execution_count": 23,
   "metadata": {
    "id": "tbp9BhYuMBao"
   },
   "outputs": [],
   "source": [
    "g_r = nx.from_scipy_sparse_matrix(cooffend_matrix_repeat)\n",
    "g_nr = nx.from_scipy_sparse_matrix(cooffend_matrix_no_repeat)\n",
    "\n",
    "g_r.remove_nodes_from(list(nx.isolates(g_r)))\n",
    "g_nr.remove_nodes_from(list(nx.isolates(g_nr)))"
   ]
  },
  {
   "cell_type": "markdown",
   "metadata": {
    "id": "dHXr6IQuHf-F"
   },
   "source": [
    "**Question 1**"
   ]
  },
  {
   "cell_type": "code",
   "execution_count": 24,
   "metadata": {
    "colab": {
     "base_uri": "https://localhost:8080/"
    },
    "id": "nKDAZTzMHfSE",
    "outputId": "64784137-e569-4bc9-f120-389068a6804f"
   },
   "outputs": [
    {
     "name": "stdout",
     "output_type": "stream",
     "text": [
      "\n",
      "Number of nodes in G_r: 17764\n",
      "Number of nodes in G_nr: 113519\n",
      "\n"
     ]
    }
   ],
   "source": [
    "print(\"\"\"\n",
    "Number of nodes in G_r: {}\n",
    "Number of nodes in G_nr: {}\n",
    "\"\"\".format(g_r.number_of_nodes(), g_nr.number_of_nodes()))"
   ]
  },
  {
   "cell_type": "markdown",
   "metadata": {
    "id": "bKYdYdhUOrGj"
   },
   "source": [
    "**Question 2**"
   ]
  },
  {
   "cell_type": "code",
   "execution_count": 25,
   "metadata": {
    "colab": {
     "base_uri": "https://localhost:8080/"
    },
    "id": "r3Y_2ZWyOsVC",
    "outputId": "2e8b19f1-acdb-434a-a926-2b2a7ae3ff3d"
   },
   "outputs": [
    {
     "name": "stdout",
     "output_type": "stream",
     "text": [
      "\n",
      "Number of edges in G_r: 15448\n",
      "Number of edges in G_nr: 162965\n",
      "\n"
     ]
    }
   ],
   "source": [
    "print(\"\"\"\n",
    "Number of edges in G_r: {}\n",
    "Number of edges in G_nr: {}\n",
    "\"\"\".format(g_r.number_of_edges(), g_nr.number_of_edges()))"
   ]
  },
  {
   "cell_type": "markdown",
   "metadata": {
    "id": "LL2jzhgkO3vr"
   },
   "source": [
    "# Part (j)"
   ]
  },
  {
   "cell_type": "code",
   "execution_count": 26,
   "metadata": {
    "colab": {
     "base_uri": "https://localhost:8080/"
    },
    "id": "Kie2SOcRO5Ax",
    "outputId": "60d77d65-0028-474f-9106-2257a07d4122"
   },
   "outputs": [
    {
     "name": "stdout",
     "output_type": "stream",
     "text": [
      "\n",
      "Number of components in G_r: 6463\n",
      "Number of components in G_nr: 35596\n",
      "\n",
      "\n",
      "Average component size for G_r: 2.7485687761101656\n",
      "Average component size for G_nr: 3.189094280256209\n",
      "\n"
     ]
    }
   ],
   "source": [
    "g_r_component_list = sorted(nx.connected_components(g_r), key=len, reverse=True)\n",
    "g_nr_component_list = sorted(nx.connected_components(g_nr), key=len, reverse=True)\n",
    "print(\"\"\"\n",
    "Number of components in G_r: {}\n",
    "Number of components in G_nr: {}\n",
    "\"\"\".format(len(g_r_component_list), len(g_nr_component_list)))\n",
    "print(\"\"\"\n",
    "Average component size for G_r: {}\n",
    "Average component size for G_nr: {}\n",
    "\"\"\".format(np.mean(list(map(len, g_r_component_list))), np.mean(list(map(len, g_nr_component_list)))))"
   ]
  },
  {
   "cell_type": "markdown",
   "metadata": {
    "id": "XBY3htlEPyyr"
   },
   "source": [
    "# Part (k)"
   ]
  },
  {
   "cell_type": "code",
   "execution_count": 27,
   "metadata": {
    "id": "kS3kHUDIQWMV"
   },
   "outputs": [],
   "source": [
    "g_r_largest_component = g_r.subgraph(g_r_component_list[0])\n",
    "g_nr_largest_component = g_nr.subgraph(g_nr_component_list[0])"
   ]
  },
  {
   "cell_type": "code",
   "execution_count": 28,
   "metadata": {
    "colab": {
     "base_uri": "https://localhost:8080/"
    },
    "id": "JwXOnNa4P0G4",
    "outputId": "c3cb1148-79c6-4df0-c76f-3ef155b47736"
   },
   "outputs": [
    {
     "name": "stdout",
     "output_type": "stream",
     "text": [
      "\n",
      "Fraction of nodes in largest component of G_r: 0.0037153794190497636\n",
      "Fraction of nodes in largest component of G_nr: 0.10646675886855944\n",
      "\n"
     ]
    }
   ],
   "source": [
    "print(\"\"\"\n",
    "Fraction of nodes in largest component of G_r: {}\n",
    "Fraction of nodes in largest component of G_nr: {}\n",
    "\"\"\".format(\n",
    "    g_r_largest_component.number_of_nodes()/float(g_r.number_of_nodes()), \n",
    "    g_nr_largest_component.number_of_nodes()/float(g_nr.number_of_nodes())))"
   ]
  },
  {
   "cell_type": "markdown",
   "metadata": {
    "id": "GpQ9d_PMQldt"
   },
   "source": [
    "# Part (l)"
   ]
  },
  {
   "cell_type": "code",
   "execution_count": 29,
   "metadata": {
    "colab": {
     "base_uri": "https://localhost:8080/"
    },
    "id": "aI9VG3V9QmtJ",
    "outputId": "494dde26-998f-4707-f0f3-cfeb1013e001"
   },
   "outputs": [
    {
     "name": "stdout",
     "output_type": "stream",
     "text": [
      "\n",
      "Density of largest component of G: 0.0003556454848657796\n",
      "Density of largest component of G_r: 0.04568764568764569\n",
      "Density of largest component of G_nr: 0.0007231308979893168\n",
      "\n"
     ]
    }
   ],
   "source": [
    "print(\"\"\"\n",
    "Density of largest component of G: {}\n",
    "Density of largest component of G_r: {}\n",
    "Density of largest component of G_nr: {}\n",
    "\"\"\".format(*map(nx.density, [largest_component, g_r_largest_component, g_nr_largest_component])))"
   ]
  },
  {
   "cell_type": "markdown",
   "metadata": {
    "id": "LBXOI84FRBCE"
   },
   "source": [
    "# Part (m)"
   ]
  },
  {
   "cell_type": "code",
   "execution_count": 49,
   "metadata": {
    "id": "rbi-BwRgRCyL"
   },
   "outputs": [
    {
     "data": {
      "image/png": "[encoded data removed]",
      "text/plain": [
       "<Figure size 432x288 with 1 Axes>"
      ]
     },
     "metadata": {
      "needs_background": "light"
     },
     "output_type": "display_data"
    }
   ],
   "source": [
    "plt.hist(nx.clustering(g_r).values(), bins=10, density=True)\n",
    "plt.xlabel('Clustering Coefficient', size=16)\n",
    "plt.title('Clustering Coefficient histogram for G_r', size=16)\n",
    "plt.savefig('images/clustering coefficient for G_r.png')\n",
    "plt.show()"
   ]
  },
  {
   "cell_type": "code",
   "execution_count": 50,
   "metadata": {
    "id": "rbi-BwRgRCyL"
   },
   "outputs": [
    {
     "data": {
      "image/png": "[encoded data removed]",
      "text/plain": [
       "<Figure size 432x288 with 1 Axes>"
      ]
     },
     "metadata": {
      "needs_background": "light"
     },
     "output_type": "display_data"
    }
   ],
   "source": [
    "plt.hist(nx.clustering(g_nr).values(), bins=10, density=True)\n",
    "plt.xlabel('Clustering Coefficient', size=16)\n",
    "plt.title('Clustering Coefficient histogram for G_nr', size=16)\n",
    "plt.savefig('images/clustering coefficient for G_nr.png')\n",
    "plt.show()"
   ]
  },
  {
   "cell_type": "markdown",
   "metadata": {
    "id": "eQrCnw_BRFtt"
   },
   "source": [
    "# Part (n)"
   ]
  },
  {
   "cell_type": "code",
   "execution_count": null,
   "metadata": {
    "id": "I6kBwD30RG_R"
   },
   "outputs": [],
   "source": [
    "nx.draw(g_nr)"
   ]
  },
  {
   "cell_type": "code",
   "execution_count": null,
   "metadata": {},
   "outputs": [],
   "source": []
  }
 ],
 "metadata": {
  "colab": {
   "collapsed_sections": [],
   "name": "cooffending-network-solutions-autograded.ipynb",
   "provenance": [],
   "toc_visible": true
  },
  "kernelspec": {
   "display_name": "Python 3",
   "language": "python",
   "name": "python3"
  },
  "language_info": {
   "codemirror_mode": {
    "name": "ipython",
    "version": 3
   },
   "file_extension": ".py",
   "mimetype": "text/x-python",
   "name": "python",
   "nbconvert_exporter": "python",
   "pygments_lexer": "ipython3",
   "version": "3.8.8"
  }
 },
 "nbformat": 4,
 "nbformat_minor": 4
}
